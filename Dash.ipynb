{
  "nbformat": 4,
  "nbformat_minor": 0,
  "metadata": {
    "colab": {
      "provenance": [],
      "authorship_tag": "ABX9TyMyqtN/Ki6GkuQNV3NM+WF+",
      "include_colab_link": true
    },
    "kernelspec": {
      "name": "python3",
      "display_name": "Python 3"
    },
    "language_info": {
      "name": "python"
    }
  },
  "cells": [
    {
      "cell_type": "markdown",
      "metadata": {
        "id": "view-in-github",
        "colab_type": "text"
      },
      "source": [
        "<a href=\"https://colab.research.google.com/github/boneeyah/SMU/blob/main/Dash.ipynb\" target=\"_parent\"><img src=\"https://colab.research.google.com/assets/colab-badge.svg\" alt=\"Open In Colab\"/></a>"
      ]
    },
    {
      "cell_type": "code",
      "execution_count": 1,
      "metadata": {
        "colab": {
          "base_uri": "https://localhost:8080/"
        },
        "id": "prYpor-yRaJ0",
        "outputId": "37246056-44f8-41c6-a64d-47bd79f56d4e"
      },
      "outputs": [
        {
          "output_type": "stream",
          "name": "stdout",
          "text": [
            "Looking in indexes: https://pypi.org/simple, https://us-python.pkg.dev/colab-wheels/public/simple/\n",
            "Collecting jupyter-dash\n",
            "  Downloading jupyter_dash-0.4.2-py3-none-any.whl (23 kB)\n",
            "Collecting ansi2html\n",
            "  Downloading ansi2html-1.8.0-py3-none-any.whl (16 kB)\n",
            "Requirement already satisfied: ipython in /usr/local/lib/python3.7/dist-packages (from jupyter-dash) (7.9.0)\n",
            "Collecting dash\n",
            "  Downloading dash-2.7.0-py3-none-any.whl (9.9 MB)\n",
            "\u001b[K     |████████████████████████████████| 9.9 MB 8.2 MB/s \n",
            "\u001b[?25hRequirement already satisfied: ipykernel in /usr/local/lib/python3.7/dist-packages (from jupyter-dash) (5.3.4)\n",
            "Requirement already satisfied: flask in /usr/local/lib/python3.7/dist-packages (from jupyter-dash) (1.1.4)\n",
            "Requirement already satisfied: requests in /usr/local/lib/python3.7/dist-packages (from jupyter-dash) (2.23.0)\n",
            "Collecting retrying\n",
            "  Downloading retrying-1.3.4-py3-none-any.whl (11 kB)\n",
            "Collecting nest-asyncio\n",
            "  Downloading nest_asyncio-1.5.6-py3-none-any.whl (5.2 kB)\n",
            "Requirement already satisfied: importlib-metadata in /usr/local/lib/python3.7/dist-packages (from ansi2html->jupyter-dash) (4.13.0)\n",
            "Collecting dash-core-components==2.0.0\n",
            "  Downloading dash_core_components-2.0.0-py3-none-any.whl (3.8 kB)\n",
            "Collecting dash-table==5.0.0\n",
            "  Downloading dash_table-5.0.0-py3-none-any.whl (3.9 kB)\n",
            "Collecting dash-html-components==2.0.0\n",
            "  Downloading dash_html_components-2.0.0-py3-none-any.whl (4.1 kB)\n",
            "Requirement already satisfied: plotly>=5.0.0 in /usr/local/lib/python3.7/dist-packages (from dash->jupyter-dash) (5.5.0)\n",
            "Requirement already satisfied: itsdangerous<2.0,>=0.24 in /usr/local/lib/python3.7/dist-packages (from flask->jupyter-dash) (1.1.0)\n",
            "Requirement already satisfied: Werkzeug<2.0,>=0.15 in /usr/local/lib/python3.7/dist-packages (from flask->jupyter-dash) (1.0.1)\n",
            "Requirement already satisfied: Jinja2<3.0,>=2.10.1 in /usr/local/lib/python3.7/dist-packages (from flask->jupyter-dash) (2.11.3)\n",
            "Requirement already satisfied: click<8.0,>=5.1 in /usr/local/lib/python3.7/dist-packages (from flask->jupyter-dash) (7.1.2)\n",
            "Requirement already satisfied: MarkupSafe>=0.23 in /usr/local/lib/python3.7/dist-packages (from Jinja2<3.0,>=2.10.1->flask->jupyter-dash) (2.0.1)\n",
            "Requirement already satisfied: six in /usr/local/lib/python3.7/dist-packages (from plotly>=5.0.0->dash->jupyter-dash) (1.15.0)\n",
            "Requirement already satisfied: tenacity>=6.2.0 in /usr/local/lib/python3.7/dist-packages (from plotly>=5.0.0->dash->jupyter-dash) (8.1.0)\n",
            "Requirement already satisfied: typing-extensions>=3.6.4 in /usr/local/lib/python3.7/dist-packages (from importlib-metadata->ansi2html->jupyter-dash) (4.1.1)\n",
            "Requirement already satisfied: zipp>=0.5 in /usr/local/lib/python3.7/dist-packages (from importlib-metadata->ansi2html->jupyter-dash) (3.10.0)\n",
            "Requirement already satisfied: jupyter-client in /usr/local/lib/python3.7/dist-packages (from ipykernel->jupyter-dash) (6.1.12)\n",
            "Requirement already satisfied: traitlets>=4.1.0 in /usr/local/lib/python3.7/dist-packages (from ipykernel->jupyter-dash) (5.1.1)\n",
            "Requirement already satisfied: tornado>=4.2 in /usr/local/lib/python3.7/dist-packages (from ipykernel->jupyter-dash) (6.0.4)\n",
            "Requirement already satisfied: setuptools>=18.5 in /usr/local/lib/python3.7/dist-packages (from ipython->jupyter-dash) (57.4.0)\n",
            "Requirement already satisfied: pickleshare in /usr/local/lib/python3.7/dist-packages (from ipython->jupyter-dash) (0.7.5)\n",
            "Collecting jedi>=0.10\n",
            "  Downloading jedi-0.18.2-py2.py3-none-any.whl (1.6 MB)\n",
            "\u001b[K     |████████████████████████████████| 1.6 MB 38.3 MB/s \n",
            "\u001b[?25hRequirement already satisfied: prompt-toolkit<2.1.0,>=2.0.0 in /usr/local/lib/python3.7/dist-packages (from ipython->jupyter-dash) (2.0.10)\n",
            "Requirement already satisfied: pygments in /usr/local/lib/python3.7/dist-packages (from ipython->jupyter-dash) (2.6.1)\n",
            "Requirement already satisfied: pexpect in /usr/local/lib/python3.7/dist-packages (from ipython->jupyter-dash) (4.8.0)\n",
            "Requirement already satisfied: decorator in /usr/local/lib/python3.7/dist-packages (from ipython->jupyter-dash) (4.4.2)\n",
            "Requirement already satisfied: backcall in /usr/local/lib/python3.7/dist-packages (from ipython->jupyter-dash) (0.2.0)\n",
            "Requirement already satisfied: parso<0.9.0,>=0.8.0 in /usr/local/lib/python3.7/dist-packages (from jedi>=0.10->ipython->jupyter-dash) (0.8.3)\n",
            "Requirement already satisfied: wcwidth in /usr/local/lib/python3.7/dist-packages (from prompt-toolkit<2.1.0,>=2.0.0->ipython->jupyter-dash) (0.2.5)\n",
            "Requirement already satisfied: python-dateutil>=2.1 in /usr/local/lib/python3.7/dist-packages (from jupyter-client->ipykernel->jupyter-dash) (2.8.2)\n",
            "Requirement already satisfied: jupyter-core>=4.6.0 in /usr/local/lib/python3.7/dist-packages (from jupyter-client->ipykernel->jupyter-dash) (4.11.2)\n",
            "Requirement already satisfied: pyzmq>=13 in /usr/local/lib/python3.7/dist-packages (from jupyter-client->ipykernel->jupyter-dash) (23.2.1)\n",
            "Requirement already satisfied: ptyprocess>=0.5 in /usr/local/lib/python3.7/dist-packages (from pexpect->ipython->jupyter-dash) (0.7.0)\n",
            "Requirement already satisfied: chardet<4,>=3.0.2 in /usr/local/lib/python3.7/dist-packages (from requests->jupyter-dash) (3.0.4)\n",
            "Requirement already satisfied: idna<3,>=2.5 in /usr/local/lib/python3.7/dist-packages (from requests->jupyter-dash) (2.10)\n",
            "Requirement already satisfied: urllib3!=1.25.0,!=1.25.1,<1.26,>=1.21.1 in /usr/local/lib/python3.7/dist-packages (from requests->jupyter-dash) (1.24.3)\n",
            "Requirement already satisfied: certifi>=2017.4.17 in /usr/local/lib/python3.7/dist-packages (from requests->jupyter-dash) (2022.9.24)\n",
            "Installing collected packages: jedi, dash-table, dash-html-components, dash-core-components, retrying, nest-asyncio, dash, ansi2html, jupyter-dash\n",
            "Successfully installed ansi2html-1.8.0 dash-2.7.0 dash-core-components-2.0.0 dash-html-components-2.0.0 dash-table-5.0.0 jedi-0.18.2 jupyter-dash-0.4.2 nest-asyncio-1.5.6 retrying-1.3.4\n"
          ]
        }
      ],
      "source": [
        "!pip install jupyter-dash"
      ]
    },
    {
      "cell_type": "code",
      "source": [
        "from jupyter_dash import JupyterDash\n",
        "from dash import dcc, html\n",
        "import plotly.express as px\n",
        "import pandas as pd"
      ],
      "metadata": {
        "id": "XP0Y7zZvnsOP"
      },
      "execution_count": 2,
      "outputs": []
    },
    {
      "cell_type": "code",
      "source": [
        "from pandas.io.parsers.readers import read_csv\n",
        "df = read_csv(\"https://raw.githubusercontent.com/boneeyah/SMU/main/netflix_titles.csv\")"
      ],
      "metadata": {
        "id": "G0HAlaFZRyUP"
      },
      "execution_count": 26,
      "outputs": []
    },
    {
      "cell_type": "code",
      "source": [
        "df.info()"
      ],
      "metadata": {
        "id": "CF9pn1kMpIP-",
        "outputId": "92ebf4ed-9c23-4ccd-d0c1-d2644fbb614b",
        "colab": {
          "base_uri": "https://localhost:8080/"
        }
      },
      "execution_count": 27,
      "outputs": [
        {
          "output_type": "stream",
          "name": "stdout",
          "text": [
            "<class 'pandas.core.frame.DataFrame'>\n",
            "RangeIndex: 8807 entries, 0 to 8806\n",
            "Data columns (total 12 columns):\n",
            " #   Column        Non-Null Count  Dtype \n",
            "---  ------        --------------  ----- \n",
            " 0   show_id       8807 non-null   object\n",
            " 1   type          8807 non-null   object\n",
            " 2   title         8807 non-null   object\n",
            " 3   director      6173 non-null   object\n",
            " 4   cast          7982 non-null   object\n",
            " 5   country       7976 non-null   object\n",
            " 6   date_added    8797 non-null   object\n",
            " 7   release_year  8807 non-null   int64 \n",
            " 8   rating        8803 non-null   object\n",
            " 9   duration      8804 non-null   object\n",
            " 10  listed_in     8807 non-null   object\n",
            " 11  description   8807 non-null   object\n",
            "dtypes: int64(1), object(11)\n",
            "memory usage: 825.8+ KB\n"
          ]
        }
      ]
    },
    {
      "cell_type": "code",
      "source": [
        "df = df.drop(index=df[df['country'].isnull()].index)"
      ],
      "metadata": {
        "id": "zH7l_vCPred0"
      },
      "execution_count": 28,
      "outputs": []
    },
    {
      "cell_type": "code",
      "source": [
        "df.info()"
      ],
      "metadata": {
        "id": "QMPl5f6ksKwM",
        "outputId": "6d6b80a0-2551-4db4-b7dd-9eeda75ea24e",
        "colab": {
          "base_uri": "https://localhost:8080/"
        }
      },
      "execution_count": 29,
      "outputs": [
        {
          "output_type": "stream",
          "name": "stdout",
          "text": [
            "<class 'pandas.core.frame.DataFrame'>\n",
            "Int64Index: 7976 entries, 0 to 8806\n",
            "Data columns (total 12 columns):\n",
            " #   Column        Non-Null Count  Dtype \n",
            "---  ------        --------------  ----- \n",
            " 0   show_id       7976 non-null   object\n",
            " 1   type          7976 non-null   object\n",
            " 2   title         7976 non-null   object\n",
            " 3   director      5751 non-null   object\n",
            " 4   cast          7305 non-null   object\n",
            " 5   country       7976 non-null   object\n",
            " 6   date_added    7967 non-null   object\n",
            " 7   release_year  7976 non-null   int64 \n",
            " 8   rating        7973 non-null   object\n",
            " 9   duration      7973 non-null   object\n",
            " 10  listed_in     7976 non-null   object\n",
            " 11  description   7976 non-null   object\n",
            "dtypes: int64(1), object(11)\n",
            "memory usage: 810.1+ KB\n"
          ]
        }
      ]
    },
    {
      "cell_type": "code",
      "source": [
        "colors = {\n",
        "    'background':'#111111',\n",
        "    'text':'#7fdbff'\n",
        "}"
      ],
      "metadata": {
        "id": "PF5Zdc4o4IVA"
      },
      "execution_count": 8,
      "outputs": []
    },
    {
      "cell_type": "code",
      "source": [
        "df13 = df[['country','type','show_id']]\n",
        "\n",
        "df13 = df13[['country','show_id']].groupby('country').count()\n",
        "px.scatter_geo(data_frame=df13,locations=df13.index,size='show_id',locationmode='country names')"
      ],
      "metadata": {
        "id": "NvBn0dUY8wBH",
        "outputId": "06ea5f02-4ed9-4f45-c246-bc7caa068d62",
        "colab": {
          "base_uri": "https://localhost:8080/",
          "height": 542
        }
      },
      "execution_count": 61,
      "outputs": [
        {
          "output_type": "display_data",
          "data": {
            "text/html": [
              "<html>\n",
              "<head><meta charset=\"utf-8\" /></head>\n",
              "<body>\n",
              "    <div>            <script src=\"https://cdnjs.cloudflare.com/ajax/libs/mathjax/2.7.5/MathJax.js?config=TeX-AMS-MML_SVG\"></script><script type=\"text/javascript\">if (window.MathJax) {MathJax.Hub.Config({SVG: {font: \"STIX-Web\"}});}</script>                <script type=\"text/javascript\">window.PlotlyConfig = {MathJaxConfig: 'local'};</script>\n",
              "        <script src=\"https://cdn.plot.ly/plotly-2.8.3.min.js\"></script>                <div id=\"8da03024-e639-4c29-b42b-8d2c3e135d9d\" class=\"plotly-graph-div\" style=\"height:525px; width:100%;\"></div>            <script type=\"text/javascript\">                                    window.PLOTLYENV=window.PLOTLYENV || {};                                    if (document.getElementById(\"8da03024-e639-4c29-b42b-8d2c3e135d9d\")) {                    Plotly.newPlot(                        \"8da03024-e639-4c29-b42b-8d2c3e135d9d\",                        [{\"geo\":\"geo\",\"hovertemplate\":\"show_id=%{marker.size}<br>country=%{location}<extra></extra>\",\"legendgroup\":\"\",\"locationmode\":\"country names\",\"locations\":[\", France, Algeria\",\", South Korea\",\"Argentina\",\"Argentina, Brazil, France, Poland, Germany, Denmark\",\"Argentina, Chile\",\"Argentina, Chile, Peru\",\"Argentina, France\",\"Argentina, France, United States, Germany, Qatar\",\"Argentina, Italy\",\"Argentina, Spain\",\"Argentina, United States\",\"Argentina, United States, Mexico\",\"Argentina, Uruguay, Serbia\",\"Argentina, Uruguay, Spain, France\",\"Argentina, Venezuela\",\"Australia\",\"Australia, Armenia, Japan, Jordan, Mexico, Mongolia, New Zealand, Philippines, South Africa, Sweden, United States, Uruguay\",\"Australia, Canada\",\"Australia, France\",\"Australia, France, Ireland\",\"Australia, Germany\",\"Australia, India\",\"Australia, Iraq\",\"Australia, New Zealand\",\"Australia, New Zealand, United States\",\"Australia, United Arab Emirates\",\"Australia, United Kingdom\",\"Australia, United Kingdom, Canada\",\"Australia, United Kingdom, United Arab Emirates, Canada\",\"Australia, United Kingdom, United States, New Zealand, Italy, France\",\"Australia, United States\",\"Austria\",\"Austria, Czech Republic\",\"Austria, Germany\",\"Austria, Iraq, United States\",\"Austria, United States\",\"Bangladesh\",\"Belarus\",\"Belgium\",\"Belgium, France\",\"Belgium, France, Netherlands\",\"Belgium, Ireland, Netherlands, Germany, Afghanistan\",\"Belgium, Netherlands\",\"Belgium, United Kingdom\",\"Belgium, United Kingdom, United States\",\"Brazil\",\"Brazil, France\",\"Brazil, France, Germany\",\"Brazil, India, China, United States\",\"Brazil, Netherlands, United States, Colombia, Austria, Germany\",\"Brazil, United Kingdom\",\"Brazil, United States\",\"Bulgaria\",\"Bulgaria, United States\",\"Bulgaria, United States, Spain, Canada\",\"Cambodia\",\"Cambodia, United States\",\"Cameroon\",\"Canada\",\"Canada, Australia\",\"Canada, Belgium\",\"Canada, Brazil\",\"Canada, France\",\"Canada, France, Italy, Morocco, United States\",\"Canada, France, United States\",\"Canada, Germany\",\"Canada, Germany, France, United States\",\"Canada, Germany, South Africa\",\"Canada, Hungary, United States\",\"Canada, India\",\"Canada, India, Thailand, United States, United Arab Emirates\",\"Canada, Ireland, United States\",\"Canada, Japan, Netherlands\",\"Canada, Japan, United States\",\"Canada, Luxembourg\",\"Canada, Mexico, Germany, South Africa\",\"Canada, Nigeria\",\"Canada, Nigeria, United States\",\"Canada, Norway\",\"Canada, South Africa\",\"Canada, South Korea, United States\",\"Canada, Spain\",\"Canada, Spain, France\",\"Canada, United Kingdom\",\"Canada, United Kingdom, Netherlands\",\"Canada, United Kingdom, United States\",\"Canada, United States\",\"Canada, United States, Cayman Islands\",\"Canada, United States, Denmark\",\"Canada, United States, France\",\"Canada, United States, Germany\",\"Canada, United States, India, United Kingdom\",\"Canada, United States, Ireland\",\"Canada, United States, Mexico\",\"Canada, United States, United Kingdom\",\"Canada, United States, United Kingdom, France, Luxembourg\",\"Chile\",\"Chile, Argentina\",\"Chile, Argentina, France, Spain, United States\",\"Chile, Brazil\",\"Chile, France\",\"Chile, Italy\",\"Chile, Peru\",\"Chile, Spain, Argentina, Germany\",\"Chile, United States, France\",\"China\",\"China, Canada, United States\",\"China, Germany, India, United States\",\"China, Hong Kong\",\"China, Hong Kong, United States\",\"China, India, Nepal\",\"China, Japan\",\"China, Morocco, Hong Kong\",\"China, South Korea, United States\",\"China, Spain, South Korea, United States\",\"China, Taiwan\",\"China, United Kingdom\",\"China, United States\",\"China, United States, Australia\",\"China, United States, Canada\",\"China, United States, United Kingdom\",\"Colombia\",\"Colombia, Mexico\",\"Colombia, Mexico, United States\",\"Colombia, Peru, United Kingdom\",\"Colombia, United States\",\"Croatia\",\"Croatia, Slovenia, Serbia, Montenegro\",\"Cyprus\",\"Czech Republic, France\",\"Czech Republic, Slovakia\",\"Czech Republic, United Kingdom, France\",\"Czech Republic, United Kingdom, United States\",\"Czech Republic, United States\",\"Denmark\",\"Denmark, Brazil, France, Portugal, Sweden\",\"Denmark, China\",\"Denmark, France, Belgium, Italy, Netherlands, United States, United Kingdom\",\"Denmark, France, Poland\",\"Denmark, France, United States, Sweden\",\"Denmark, Germany, Belgium, United Kingdom, France\",\"Denmark, Germany, Belgium, United Kingdom, France, Sweden\",\"Denmark, Indonesia, Finland, Norway, United Kingdom, Israel, France, United States, Germany, Netherlands\",\"Denmark, Singapore, Canada, United States\",\"Denmark, Spain\",\"Denmark, Sweden, Israel, United States\",\"Denmark, United Kingdom, South Africa, Sweden, Belgium\",\"Denmark, United Kingdom, Sweden\",\"Denmark, United States\",\"Denmark, Zimbabwe\",\"Egypt\",\"Egypt, Algeria\",\"Egypt, Austria, United States\",\"Egypt, Denmark, Germany\",\"Egypt, France\",\"Egypt, Saudi Arabia\",\"Finland\",\"Finland, France\",\"Finland, Germany\",\"Finland, Germany, Belgium\",\"Finland, Sweden, Norway, Latvia, Germany\",\"Finland, United States\",\"France\",\"France, Algeria\",\"France, Australia, Germany\",\"France, Belgium\",\"France, Belgium, China, United States\",\"France, Belgium, Italy\",\"France, Belgium, Luxembourg, Cambodia,\",\"France, Belgium, Luxembourg, Romania, Canada, United States\",\"France, Belgium, Spain\",\"France, Belgium, United States\",\"France, Brazil, Spain, Belgium\",\"France, Canada\",\"France, Canada, Belgium\",\"France, Canada, China, Cambodia\",\"France, Canada, Italy, United States, China\",\"France, Canada, United States\",\"France, Canada, United States, Spain\",\"France, China, Japan, United States\",\"France, Egypt\",\"France, Germany\",\"France, Germany, Czech Republic, Belgium\",\"France, Germany, Switzerland\",\"France, Iran, United States\",\"France, Israel, Germany, United States, United Kingdom\",\"France, Japan\",\"France, Japan, United States\",\"France, Lebanon\",\"France, Lebanon, United Kingdom\",\"France, Luxembourg, Canada\",\"France, Luxembourg, United States\",\"France, Malta, United States\",\"France, Morocco\",\"France, Netherlands, Singapore\",\"France, Netherlands, South Africa, Finland\",\"France, New Zealand\",\"France, Norway, Lebanon, Belgium\",\"France, Qatar\",\"France, Senegal, Belgium\",\"France, South Korea, Japan\",\"France, South Korea, Japan, United States\",\"France, Switzerland, Spain, United States, United Arab Emirates\",\"France, United Kingdom\",\"France, United Kingdom, India\",\"France, United Kingdom, United States\",\"France, United States\",\"France, United States, Canada\",\"France, United States, Mexico\",\"France, United States, United Kingdom, Canada\",\"Georgia\",\"Georgia, Germany, France\",\"Germany\",\"Germany, Australia\",\"Germany, Australia, France, China\",\"Germany, Belgium\",\"Germany, Canada, United States\",\"Germany, China, United Kingdom\",\"Germany, Czech Republic\",\"Germany, France\",\"Germany, France, Luxembourg, United Kingdom, United States\",\"Germany, France, Russia\",\"Germany, France, United States, Canada, United Kingdom\",\"Germany, Italy\",\"Germany, Jordan, Netherlands\",\"Germany, Sri Lanka\",\"Germany, United Kingdom\",\"Germany, United Kingdom, United States\",\"Germany, United States\",\"Germany, United States, Canada\",\"Germany, United States, France\",\"Germany, United States, Hong Kong, Singapore\",\"Germany, United States, Italy\",\"Germany, United States, Sweden\",\"Germany, United States, United Kingdom, Canada\",\"Ghana\",\"Ghana, United States\",\"Greece, United States\",\"Guatemala\",\"Hong Kong\",\"Hong Kong, Canada, United States\",\"Hong Kong, China\",\"Hong Kong, China, Singapore\",\"Hong Kong, China, United States\",\"Hong Kong, Iceland, United States\",\"Hong Kong, Taiwan\",\"Hong Kong, United States\",\"Hungary\",\"Hungary, United States\",\"Iceland\",\"Iceland, Sweden, Belgium\",\"India\",\"India, Australia\",\"India, Canada\",\"India, France\",\"India, Germany\",\"India, Germany, Austria\",\"India, Germany, France\",\"India, Iran\",\"India, Japan\",\"India, Malaysia\",\"India, Mexico\",\"India, Nepal\",\"India, Pakistan\",\"India, Soviet Union\",\"India, Switzerland\",\"India, Turkey\",\"India, United Kingdom\",\"India, United Kingdom, Canada, United States\",\"India, United Kingdom, China, Canada, Japan, South Korea, United States\",\"India, United Kingdom, France, Qatar\",\"India, United States\",\"Indonesia\",\"Indonesia, Netherlands\",\"Indonesia, Singapore\",\"Indonesia, South Korea, Singapore\",\"Indonesia, United Kingdom\",\"Indonesia, United States\",\"Iran, France\",\"Ireland\",\"Ireland, Canada\",\"Ireland, Canada, Luxembourg, United States, United Kingdom, Philippines, India\",\"Ireland, Canada, United Kingdom, United States\",\"Ireland, Canada, United States, United Kingdom\",\"Ireland, France, Iceland, United States, Mexico, Belgium, United Kingdom, Hong Kong\",\"Ireland, Luxembourg, Belgium\",\"Ireland, South Africa\",\"Ireland, Switzerland, United Kingdom, France, United States\",\"Ireland, United Kingdom\",\"Ireland, United Kingdom, France, Germany\",\"Ireland, United Kingdom, Greece, France, Netherlands\",\"Ireland, United Kingdom, Italy, United States\",\"Ireland, United Kingdom, United States\",\"Ireland, United States\",\"Ireland, United States, France\",\"Ireland, United States, United Kingdom\",\"Israel\",\"Israel, Germany\",\"Israel, Germany, France\",\"Israel, Germany, Poland, Luxembourg, Belgium, France, United States\",\"Israel, Sweden, Germany, Netherlands\",\"Israel, United States\",\"Italy\",\"Italy, Belgium\",\"Italy, Brazil, Greece\",\"Italy, Canada, France\",\"Italy, France\",\"Italy, France, Switzerland\",\"Italy, Germany\",\"Italy, India\",\"Italy, South Africa, West Germany, Australia, United States\",\"Italy, Switzerland, Albania, Poland\",\"Italy, Switzerland, France, Germany\",\"Italy, Turkey\",\"Italy, United Kingdom\",\"Italy, United Kingdom, France\",\"Italy, United States\",\"Italy, United States, Argentina\",\"Jamaica, United States\",\"Japan\",\"Japan, Canada\",\"Japan, Canada, United States\",\"Japan, United States\",\"Jordan\",\"Kenya\",\"Kenya, United States\",\"Kuwait\",\"Kuwait, United States\",\"Lebanon\",\"Lebanon, Canada, France\",\"Lebanon, France\",\"Lebanon, Palestine, Denmark, Qatar\",\"Lebanon, Qatar\",\"Lebanon, Syria\",\"Lebanon, United Arab Emirates\",\"Lebanon, United Arab Emirates, France, Switzerland, Germany\",\"Lebanon, United States, United Arab Emirates\",\"Luxembourg\",\"Malaysia\",\"Malaysia, Singapore, Hong Kong\",\"Mauritius\",\"Mauritius, South Africa\",\"Mexico\",\"Mexico, Argentina\",\"Mexico, Brazil\",\"Mexico, Finland\",\"Mexico, France\",\"Mexico, France, Colombia\",\"Mexico, Netherlands\",\"Mexico, Spain\",\"Mexico, United States\",\"Mexico, United States, Spain, Colombia\",\"Mozambique\",\"Namibia\",\"Netherlands\",\"Netherlands, Belgium\",\"Netherlands, Belgium, Germany, Jordan\",\"Netherlands, Belgium, United Kingdom, United States\",\"Netherlands, Denmark, France, Germany\",\"Netherlands, Denmark, South Africa\",\"Netherlands, Germany, Denmark, United Kingdom\",\"Netherlands, Germany, Italy, Canada\",\"Netherlands, United States\",\"New Zealand\",\"New Zealand, Australia, France, United States\",\"New Zealand, United Kingdom\",\"New Zealand, United Kingdom, Australia\",\"New Zealand, United States\",\"Nigeria\",\"Nigeria, United Kingdom\",\"Norway\",\"Norway, Denmark\",\"Norway, Denmark, Netherlands, Sweden\",\"Norway, Denmark, Sweden\",\"Norway, Germany\",\"Norway, Germany, Sweden\",\"Norway, Iceland, United States\",\"Norway, Sweden\",\"Norway, United Kingdom, France, Ireland\",\"Norway, United States\",\"Pakistan\",\"Pakistan, Norway, United States\",\"Pakistan, United Arab Emirates\",\"Pakistan, United States\",\"Paraguay, Argentina\",\"Peru\",\"Peru, Germany, Norway\",\"Peru, United States, United Kingdom\",\"Philippines\",\"Philippines, Canada, United Kingdom, United States\",\"Philippines, Qatar\",\"Philippines, Singapore\",\"Philippines, Singapore, Indonesia\",\"Philippines, United States\",\"Poland\",\"Poland,\",\"Poland, United States\",\"Poland, West Germany\",\"Portugal, France, Poland, United States\",\"Portugal, Spain\",\"Portugal, United States\",\"Puerto Rico, United States, Colombia\",\"Romania\",\"Romania, Bulgaria, Hungary\",\"Romania, France, Switzerland, Germany\",\"Romania, United Kingdom\",\"Romania, United States\",\"Russia\",\"Russia, Poland, Serbia\",\"Russia, Spain\",\"Russia, United States\",\"Russia, United States, China\",\"Saudi Arabia\",\"Saudi Arabia, Netherlands, Germany, Jordan, United Arab Emirates, United States\",\"Saudi Arabia, Syria, Egypt, Lebanon, Kuwait\",\"Saudi Arabia, United Arab Emirates\",\"Senegal\",\"Serbia, South Korea, Slovenia\",\"Serbia, United States\",\"Singapore\",\"Singapore, France\",\"Singapore, Japan, France\",\"Singapore, Malaysia\",\"Singapore, United States\",\"Slovenia, Croatia, Germany, Czech Republic, Qatar\",\"Somalia, Kenya, Sudan, South Africa, United States\",\"South Africa\",\"South Africa, Angola\",\"South Africa, China, United States\",\"South Africa, Germany, Netherlands, France\",\"South Africa, Nigeria\",\"South Africa, United States\",\"South Africa, United States, Germany\",\"South Africa, United States, Japan\",\"South Africa, United States, New Zealand, Canada\",\"South Korea\",\"South Korea, Canada, United States, China\",\"South Korea, China\",\"South Korea, China, United States\",\"South Korea, Czech Republic\",\"South Korea, France\",\"South Korea, Japan\",\"South Korea, United States\",\"Soviet Union, India\",\"Spain\",\"Spain, Argentina\",\"Spain, Belgium\",\"Spain, Belgium, United States\",\"Spain, Canada, United States\",\"Spain, Colombia\",\"Spain, Cuba\",\"Spain, France\",\"Spain, France, Canada\",\"Spain, France, Canada, United States\",\"Spain, France, Italy\",\"Spain, France, United Kingdom, United States\",\"Spain, France, United States\",\"Spain, France, Uruguay\",\"Spain, Germany\",\"Spain, Germany, Denmark, United States\",\"Spain, Italy\",\"Spain, Italy, Argentina\",\"Spain, Mexico\",\"Spain, Mexico, France\",\"Spain, Portugal\",\"Spain, Switzerland\",\"Spain, Thailand, United States\",\"Spain, United Kingdom\",\"Spain, United Kingdom, United States\",\"Spain, United States\",\"Sweden\",\"Sweden, Czech Republic, United Kingdom, Denmark, Netherlands\",\"Sweden, Netherlands\",\"Sweden, United Kingdom, Finland\",\"Sweden, United States\",\"Switzerland\",\"Switzerland, France\",\"Switzerland, France, Belgium, United States\",\"Switzerland, United Kingdom, Australia\",\"Switzerland, United Kingdom, United States\",\"Switzerland, United States\",\"Switzerland, Vatican City, Italy, Germany, France\",\"Syria, France, Lebanon, Qatar\",\"Taiwan\",\"Taiwan, China\",\"Taiwan, China, France, United States\",\"Taiwan, Hong Kong, United States, China\",\"Taiwan, Malaysia\",\"Thailand\",\"Thailand, Canada, United States\",\"Thailand, China, United States\",\"Thailand, United States\",\"Turkey\",\"Turkey, Azerbaijan\",\"Turkey, France, Germany, Poland\",\"Turkey, India\",\"Turkey, South Korea\",\"Turkey, United States\",\"Ukraine\",\"United Arab Emirates\",\"United Arab Emirates, Jordan\",\"United Arab Emirates, Jordan, Lebanon, Saudi Arabia\",\"United Arab Emirates, Romania\",\"United Arab Emirates, United Kingdom, India\",\"United Arab Emirates, United States\",\"United Arab Emirates, United States, United Kingdom\",\"United Kingdom\",\"United Kingdom,\",\"United Kingdom, Australia\",\"United Kingdom, Australia, Canada, United States\",\"United Kingdom, Australia, France\",\"United Kingdom, Australia, France, United States\",\"United Kingdom, Australia, United States\",\"United Kingdom, Belgium\",\"United Kingdom, Belgium, Sweden\",\"United Kingdom, Brazil, Germany\",\"United Kingdom, Canada\",\"United Kingdom, Canada, France, United States\",\"United Kingdom, Canada, Italy\",\"United Kingdom, Canada, Japan\",\"United Kingdom, Canada, United States\",\"United Kingdom, Canada, United States, Cayman Islands\",\"United Kingdom, Canada, United States, Germany\",\"United Kingdom, China\",\"United Kingdom, China, United States\",\"United Kingdom, China, United States, India\",\"United Kingdom, Czech Republic, Germany, United States\",\"United Kingdom, Czech Republic, United States, Germany, Bahamas\",\"United Kingdom, Denmark, Canada, Croatia\",\"United Kingdom, Egypt, United States\",\"United Kingdom, Finland, Germany, United States, Australia, Japan, France, Ireland\",\"United Kingdom, France\",\"United Kingdom, France, Belgium\",\"United Kingdom, France, Belgium, Canada, United States\",\"United Kingdom, France, Belgium, Ireland, United States\",\"United Kingdom, France, Belgium, United States\",\"United Kingdom, France, Canada, Belgium, United States\",\"United Kingdom, France, Germany\",\"United Kingdom, France, Germany, Spain\",\"United Kingdom, France, Germany, United States\",\"United Kingdom, France, Poland, Germany, United States\",\"United Kingdom, France, Spain, United States\",\"United Kingdom, France, United States\",\"United Kingdom, France, United States, Belgium\",\"United Kingdom, France, United States, Belgium, Luxembourg, China, Germany\",\"United Kingdom, Germany\",\"United Kingdom, Germany, Canada\",\"United Kingdom, Germany, Canada, United States\",\"United Kingdom, Germany, France, United States\",\"United Kingdom, Germany, Spain, United States\",\"United Kingdom, Germany, United Arab Emirates, New Zealand\",\"United Kingdom, Germany, United States\",\"United Kingdom, Germany, United States, France\",\"United Kingdom, Hong Kong\",\"United Kingdom, Hungary, Australia\",\"United Kingdom, India\",\"United Kingdom, India, Sweden\",\"United Kingdom, India, United States\",\"United Kingdom, Ireland\",\"United Kingdom, Ireland, United States\",\"United Kingdom, Israel, Russia\",\"United Kingdom, Italy\",\"United Kingdom, Italy, Israel, Peru, United States\",\"United Kingdom, Japan\",\"United Kingdom, Japan, United States\",\"United Kingdom, Jordan, Qatar, Iran\",\"United Kingdom, Kenya\",\"United Kingdom, Lithuania\",\"United Kingdom, Malawi\",\"United Kingdom, Namibia, South Africa, Zimbabwe, United States\",\"United Kingdom, New Zealand\",\"United Kingdom, Nigeria\",\"United Kingdom, Norway, Denmark, Germany, Sweden\",\"United Kingdom, Pakistan\",\"United Kingdom, Poland\",\"United Kingdom, Poland, United States\",\"United Kingdom, Russia\",\"United Kingdom, Russia, United States\",\"United Kingdom, Singapore\",\"United Kingdom, South Africa\",\"United Kingdom, South Africa, Australia, United States\",\"United Kingdom, South Africa, France\",\"United Kingdom, South Korea\",\"United Kingdom, Spain\",\"United Kingdom, Spain, Belgium\",\"United Kingdom, Spain, United States\",\"United Kingdom, Spain, United States, Germany\",\"United Kingdom, Thailand\",\"United Kingdom, Ukraine, United States\",\"United Kingdom, United States\",\"United Kingdom, United States, Australia\",\"United Kingdom, United States, Canada\",\"United Kingdom, United States, Czech Republic\",\"United Kingdom, United States, Dominican Republic\",\"United Kingdom, United States, France\",\"United Kingdom, United States, France, Germany\",\"United Kingdom, United States, France, Italy\",\"United Kingdom, United States, Germany, Denmark, Belgium, Japan\",\"United Kingdom, United States, Ireland\",\"United Kingdom, United States, Japan\",\"United Kingdom, United States, Morocco\",\"United Kingdom, United States, Spain, Germany, Greece, Canada\",\"United Kingdom, West Germany\",\"United States\",\"United States,\",\"United States, Argentina\",\"United States, Australia\",\"United States, Australia, China\",\"United States, Australia, Mexico\",\"United States, Australia, Samoa, United Kingdom\",\"United States, Australia, South Africa, United Kingdom\",\"United States, Belgium, Canada, France\",\"United States, Bermuda, Ecuador\",\"United States, Botswana\",\"United States, Brazil\",\"United States, Brazil, India, Uganda, China\",\"United States, Brazil, Japan, Spain, India\",\"United States, Brazil, South Korea, Mexico, Japan, Germany\",\"United States, Bulgaria\",\"United States, Cambodia\",\"United States, Cambodia, Romania\",\"United States, Canada\",\"United States, Canada, Belgium, United Kingdom\",\"United States, Canada, China\",\"United States, Canada, France\",\"United States, Canada, Germany\",\"United States, Canada, Indonesia, United Kingdom, China, Singapore\",\"United States, Canada, Ireland\",\"United States, Canada, Japan, Panama\",\"United States, Canada, United Kingdom\",\"United States, Chile\",\"United States, Chile, Israel\",\"United States, China\",\"United States, China, Canada\",\"United States, China, Colombia\",\"United States, China, Hong Kong\",\"United States, China, United Kingdom\",\"United States, Colombia\",\"United States, Colombia, Mexico\",\"United States, Czech Republic\",\"United States, Czech Republic, United Kingdom\",\"United States, Denmark\",\"United States, East Germany, West Germany\",\"United States, France\",\"United States, France, Canada\",\"United States, France, Canada, Belgium\",\"United States, France, Canada, Lebanon, Qatar\",\"United States, France, Canada, Spain\",\"United States, France, Denmark\",\"United States, France, Italy, United Kingdom\",\"United States, France, Japan\",\"United States, France, Mexico\",\"United States, France, Serbia\",\"United States, France, South Korea, Indonesia\",\"United States, France, United Kingdom\",\"United States, France, United Kingdom, Japan\",\"United States, Germany\",\"United States, Germany, Australia\",\"United States, Germany, Canada\",\"United States, Germany, Mexico\",\"United States, Germany, United Kingdom\",\"United States, Germany, United Kingdom, Australia\",\"United States, Germany, United Kingdom, Italy\",\"United States, Ghana, Burkina Faso, United Kingdom, Germany, Ethiopia\",\"United States, Greece\",\"United States, Greece, Brazil\",\"United States, Greece, United Kingdom\",\"United States, Hong Kong\",\"United States, Hungary\",\"United States, Hungary, Ireland, Canada\",\"United States, Iceland\",\"United States, India\",\"United States, India, Bangladesh\",\"United States, India, France\",\"United States, India, South Korea, China\",\"United States, India, United Arab Emirates\",\"United States, India, United Kingdom\",\"United States, Indonesia\",\"United States, Ireland\",\"United States, Ireland, United Kingdom, India\",\"United States, Israel, Italy, South Africa\",\"United States, Israel, United Kingdom, Canada\",\"United States, Italy\",\"United States, Italy, France, Japan\",\"United States, Italy, Romania, United Kingdom\",\"United States, Italy, United Kingdom, Liechtenstein\",\"United States, Japan\",\"United States, Japan, Canada\",\"United States, Kazakhstan\",\"United States, Malta, France, United Kingdom\",\"United States, Mexico\",\"United States, Mexico, Colombia\",\"United States, Mexico, Spain, Malta\",\"United States, Morocco\",\"United States, Netherlands, Japan, France\",\"United States, New Zealand\",\"United States, New Zealand, Japan\",\"United States, New Zealand, United Kingdom\",\"United States, Nicaragua\",\"United States, Nigeria\",\"United States, Norway, Canada\",\"United States, Philippines\",\"United States, Poland\",\"United States, Russia\",\"United States, Senegal\",\"United States, Singapore\",\"United States, South Africa\",\"United States, South Korea\",\"United States, South Korea, China\",\"United States, South Korea, Japan\",\"United States, Spain\",\"United States, Spain, Germany\",\"United States, Sweden\",\"United States, Sweden, Norway\",\"United States, Switzerland\",\"United States, Taiwan\",\"United States, Thailand\",\"United States, United Arab Emirates\",\"United States, United Kingdom\",\"United States, United Kingdom, Australia\",\"United States, United Kingdom, Canada\",\"United States, United Kingdom, Canada, China\",\"United States, United Kingdom, Canada, Japan\",\"United States, United Kingdom, Denmark, Sweden\",\"United States, United Kingdom, France\",\"United States, United Kingdom, France, Germany, Japan\",\"United States, United Kingdom, Germany\",\"United States, United Kingdom, Germany, Hungary\",\"United States, United Kingdom, India\",\"United States, United Kingdom, Italy\",\"United States, United Kingdom, Japan\",\"United States, United Kingdom, Morocco\",\"United States, United Kingdom, New Zealand\",\"United States, United Kingdom, Spain, South Korea\",\"United States, Uruguay\",\"United States, Venezuela\",\"Uruguay\",\"Uruguay, Argentina\",\"Uruguay, Argentina, Germany, Spain\",\"Uruguay, Argentina, Spain\",\"Uruguay, Germany\",\"Uruguay, Guatemala\",\"Uruguay, Spain, Mexico\",\"Venezuela\",\"Venezuela, Colombia\",\"Vietnam\",\"West Germany\",\"Zimbabwe\"],\"marker\":{\"color\":\"#636efa\",\"size\":[1,1,56,1,2,1,1,1,1,8,1,1,1,1,1,87,1,2,1,1,1,1,1,1,1,2,2,1,1,1,13,5,1,1,1,1,3,1,9,3,1,1,2,1,1,77,2,1,1,1,1,1,1,3,1,1,1,1,181,2,1,1,1,1,1,1,1,1,1,2,1,1,1,1,1,1,1,1,1,2,1,1,1,2,1,2,45,1,1,2,1,1,1,1,4,1,14,1,1,1,1,1,1,1,1,66,3,1,14,1,1,1,1,1,1,2,3,2,1,1,1,35,1,2,1,1,1,1,1,1,1,1,1,2,13,1,1,1,1,1,1,1,1,1,1,1,1,1,3,1,106,1,1,1,2,1,1,1,1,1,1,1,124,1,1,27,1,1,1,1,1,1,1,3,1,1,1,1,1,1,3,1,1,1,1,1,1,2,1,1,1,1,1,1,1,1,1,1,1,1,1,1,1,1,1,2,10,1,1,1,1,1,67,1,1,1,1,1,2,1,1,1,1,1,1,1,2,1,13,1,1,1,1,1,1,3,1,1,1,53,1,16,1,2,1,1,4,4,1,5,1,972,1,1,5,2,1,1,1,1,1,1,1,1,2,1,1,2,1,1,1,10,79,1,2,1,1,1,1,10,1,1,1,1,1,1,1,1,2,1,1,1,2,1,1,1,13,1,1,1,1,5,45,1,1,1,5,1,1,1,1,1,1,1,1,1,4,1,1,245,1,1,12,2,3,1,6,1,15,2,1,1,1,1,1,1,1,1,22,1,1,1,110,1,1,1,1,1,1,4,13,1,1,1,19,2,1,1,1,1,1,1,1,12,1,1,1,2,95,1,11,1,1,1,1,1,2,1,1,1,18,1,1,2,1,4,1,1,75,1,1,1,1,1,24,1,4,1,1,2,1,1,6,1,1,1,1,15,1,1,1,1,8,1,1,1,1,1,2,23,1,1,1,2,1,1,30,1,1,1,1,4,1,1,1,199,1,1,1,1,1,1,6,1,145,3,1,1,1,1,1,5,1,1,1,1,1,1,3,1,2,1,2,1,1,1,1,2,1,1,13,1,1,1,3,2,1,1,1,1,1,1,1,81,1,1,1,1,61,1,1,2,105,1,1,1,1,2,2,14,1,1,1,1,2,1,419,2,1,1,1,1,1,2,1,1,4,1,1,1,8,1,1,1,1,1,1,1,1,1,1,6,1,1,1,1,1,1,1,2,1,1,4,1,1,4,1,1,1,1,1,2,1,1,1,2,1,2,3,1,1,2,1,1,3,1,1,1,1,1,1,2,1,1,1,1,1,1,1,1,1,1,1,1,1,1,1,1,1,75,3,1,1,1,2,1,1,1,1,1,1,4,1,2818,1,2,11,1,1,1,1,1,1,1,1,1,1,1,4,1,1,73,1,1,1,1,1,1,1,1,3,1,8,1,1,2,1,3,1,5,1,1,1,16,1,1,1,1,1,1,7,1,1,1,1,1,17,1,3,1,1,1,1,1,2,1,1,3,1,1,1,9,1,1,1,1,1,1,3,1,1,1,5,1,1,1,16,2,1,1,14,1,1,1,1,5,1,1,1,2,1,1,1,4,1,1,3,2,2,1,4,1,3,1,1,1,2,3,47,4,2,1,1,1,4,1,2,1,1,1,1,1,1,1,1,1,3,1,1,1,1,1,1,1,1,7,1,1],\"sizemode\":\"area\",\"sizeref\":7.045,\"symbol\":\"circle\"},\"mode\":\"markers\",\"name\":\"\",\"showlegend\":false,\"type\":\"scattergeo\"}],                        {\"template\":{\"data\":{\"bar\":[{\"error_x\":{\"color\":\"#2a3f5f\"},\"error_y\":{\"color\":\"#2a3f5f\"},\"marker\":{\"line\":{\"color\":\"#E5ECF6\",\"width\":0.5},\"pattern\":{\"fillmode\":\"overlay\",\"size\":10,\"solidity\":0.2}},\"type\":\"bar\"}],\"barpolar\":[{\"marker\":{\"line\":{\"color\":\"#E5ECF6\",\"width\":0.5},\"pattern\":{\"fillmode\":\"overlay\",\"size\":10,\"solidity\":0.2}},\"type\":\"barpolar\"}],\"carpet\":[{\"aaxis\":{\"endlinecolor\":\"#2a3f5f\",\"gridcolor\":\"white\",\"linecolor\":\"white\",\"minorgridcolor\":\"white\",\"startlinecolor\":\"#2a3f5f\"},\"baxis\":{\"endlinecolor\":\"#2a3f5f\",\"gridcolor\":\"white\",\"linecolor\":\"white\",\"minorgridcolor\":\"white\",\"startlinecolor\":\"#2a3f5f\"},\"type\":\"carpet\"}],\"choropleth\":[{\"colorbar\":{\"outlinewidth\":0,\"ticks\":\"\"},\"type\":\"choropleth\"}],\"contour\":[{\"colorbar\":{\"outlinewidth\":0,\"ticks\":\"\"},\"colorscale\":[[0.0,\"#0d0887\"],[0.1111111111111111,\"#46039f\"],[0.2222222222222222,\"#7201a8\"],[0.3333333333333333,\"#9c179e\"],[0.4444444444444444,\"#bd3786\"],[0.5555555555555556,\"#d8576b\"],[0.6666666666666666,\"#ed7953\"],[0.7777777777777778,\"#fb9f3a\"],[0.8888888888888888,\"#fdca26\"],[1.0,\"#f0f921\"]],\"type\":\"contour\"}],\"contourcarpet\":[{\"colorbar\":{\"outlinewidth\":0,\"ticks\":\"\"},\"type\":\"contourcarpet\"}],\"heatmap\":[{\"colorbar\":{\"outlinewidth\":0,\"ticks\":\"\"},\"colorscale\":[[0.0,\"#0d0887\"],[0.1111111111111111,\"#46039f\"],[0.2222222222222222,\"#7201a8\"],[0.3333333333333333,\"#9c179e\"],[0.4444444444444444,\"#bd3786\"],[0.5555555555555556,\"#d8576b\"],[0.6666666666666666,\"#ed7953\"],[0.7777777777777778,\"#fb9f3a\"],[0.8888888888888888,\"#fdca26\"],[1.0,\"#f0f921\"]],\"type\":\"heatmap\"}],\"heatmapgl\":[{\"colorbar\":{\"outlinewidth\":0,\"ticks\":\"\"},\"colorscale\":[[0.0,\"#0d0887\"],[0.1111111111111111,\"#46039f\"],[0.2222222222222222,\"#7201a8\"],[0.3333333333333333,\"#9c179e\"],[0.4444444444444444,\"#bd3786\"],[0.5555555555555556,\"#d8576b\"],[0.6666666666666666,\"#ed7953\"],[0.7777777777777778,\"#fb9f3a\"],[0.8888888888888888,\"#fdca26\"],[1.0,\"#f0f921\"]],\"type\":\"heatmapgl\"}],\"histogram\":[{\"marker\":{\"pattern\":{\"fillmode\":\"overlay\",\"size\":10,\"solidity\":0.2}},\"type\":\"histogram\"}],\"histogram2d\":[{\"colorbar\":{\"outlinewidth\":0,\"ticks\":\"\"},\"colorscale\":[[0.0,\"#0d0887\"],[0.1111111111111111,\"#46039f\"],[0.2222222222222222,\"#7201a8\"],[0.3333333333333333,\"#9c179e\"],[0.4444444444444444,\"#bd3786\"],[0.5555555555555556,\"#d8576b\"],[0.6666666666666666,\"#ed7953\"],[0.7777777777777778,\"#fb9f3a\"],[0.8888888888888888,\"#fdca26\"],[1.0,\"#f0f921\"]],\"type\":\"histogram2d\"}],\"histogram2dcontour\":[{\"colorbar\":{\"outlinewidth\":0,\"ticks\":\"\"},\"colorscale\":[[0.0,\"#0d0887\"],[0.1111111111111111,\"#46039f\"],[0.2222222222222222,\"#7201a8\"],[0.3333333333333333,\"#9c179e\"],[0.4444444444444444,\"#bd3786\"],[0.5555555555555556,\"#d8576b\"],[0.6666666666666666,\"#ed7953\"],[0.7777777777777778,\"#fb9f3a\"],[0.8888888888888888,\"#fdca26\"],[1.0,\"#f0f921\"]],\"type\":\"histogram2dcontour\"}],\"mesh3d\":[{\"colorbar\":{\"outlinewidth\":0,\"ticks\":\"\"},\"type\":\"mesh3d\"}],\"parcoords\":[{\"line\":{\"colorbar\":{\"outlinewidth\":0,\"ticks\":\"\"}},\"type\":\"parcoords\"}],\"pie\":[{\"automargin\":true,\"type\":\"pie\"}],\"scatter\":[{\"marker\":{\"colorbar\":{\"outlinewidth\":0,\"ticks\":\"\"}},\"type\":\"scatter\"}],\"scatter3d\":[{\"line\":{\"colorbar\":{\"outlinewidth\":0,\"ticks\":\"\"}},\"marker\":{\"colorbar\":{\"outlinewidth\":0,\"ticks\":\"\"}},\"type\":\"scatter3d\"}],\"scattercarpet\":[{\"marker\":{\"colorbar\":{\"outlinewidth\":0,\"ticks\":\"\"}},\"type\":\"scattercarpet\"}],\"scattergeo\":[{\"marker\":{\"colorbar\":{\"outlinewidth\":0,\"ticks\":\"\"}},\"type\":\"scattergeo\"}],\"scattergl\":[{\"marker\":{\"colorbar\":{\"outlinewidth\":0,\"ticks\":\"\"}},\"type\":\"scattergl\"}],\"scattermapbox\":[{\"marker\":{\"colorbar\":{\"outlinewidth\":0,\"ticks\":\"\"}},\"type\":\"scattermapbox\"}],\"scatterpolar\":[{\"marker\":{\"colorbar\":{\"outlinewidth\":0,\"ticks\":\"\"}},\"type\":\"scatterpolar\"}],\"scatterpolargl\":[{\"marker\":{\"colorbar\":{\"outlinewidth\":0,\"ticks\":\"\"}},\"type\":\"scatterpolargl\"}],\"scatterternary\":[{\"marker\":{\"colorbar\":{\"outlinewidth\":0,\"ticks\":\"\"}},\"type\":\"scatterternary\"}],\"surface\":[{\"colorbar\":{\"outlinewidth\":0,\"ticks\":\"\"},\"colorscale\":[[0.0,\"#0d0887\"],[0.1111111111111111,\"#46039f\"],[0.2222222222222222,\"#7201a8\"],[0.3333333333333333,\"#9c179e\"],[0.4444444444444444,\"#bd3786\"],[0.5555555555555556,\"#d8576b\"],[0.6666666666666666,\"#ed7953\"],[0.7777777777777778,\"#fb9f3a\"],[0.8888888888888888,\"#fdca26\"],[1.0,\"#f0f921\"]],\"type\":\"surface\"}],\"table\":[{\"cells\":{\"fill\":{\"color\":\"#EBF0F8\"},\"line\":{\"color\":\"white\"}},\"header\":{\"fill\":{\"color\":\"#C8D4E3\"},\"line\":{\"color\":\"white\"}},\"type\":\"table\"}]},\"layout\":{\"annotationdefaults\":{\"arrowcolor\":\"#2a3f5f\",\"arrowhead\":0,\"arrowwidth\":1},\"autotypenumbers\":\"strict\",\"coloraxis\":{\"colorbar\":{\"outlinewidth\":0,\"ticks\":\"\"}},\"colorscale\":{\"diverging\":[[0,\"#8e0152\"],[0.1,\"#c51b7d\"],[0.2,\"#de77ae\"],[0.3,\"#f1b6da\"],[0.4,\"#fde0ef\"],[0.5,\"#f7f7f7\"],[0.6,\"#e6f5d0\"],[0.7,\"#b8e186\"],[0.8,\"#7fbc41\"],[0.9,\"#4d9221\"],[1,\"#276419\"]],\"sequential\":[[0.0,\"#0d0887\"],[0.1111111111111111,\"#46039f\"],[0.2222222222222222,\"#7201a8\"],[0.3333333333333333,\"#9c179e\"],[0.4444444444444444,\"#bd3786\"],[0.5555555555555556,\"#d8576b\"],[0.6666666666666666,\"#ed7953\"],[0.7777777777777778,\"#fb9f3a\"],[0.8888888888888888,\"#fdca26\"],[1.0,\"#f0f921\"]],\"sequentialminus\":[[0.0,\"#0d0887\"],[0.1111111111111111,\"#46039f\"],[0.2222222222222222,\"#7201a8\"],[0.3333333333333333,\"#9c179e\"],[0.4444444444444444,\"#bd3786\"],[0.5555555555555556,\"#d8576b\"],[0.6666666666666666,\"#ed7953\"],[0.7777777777777778,\"#fb9f3a\"],[0.8888888888888888,\"#fdca26\"],[1.0,\"#f0f921\"]]},\"colorway\":[\"#636efa\",\"#EF553B\",\"#00cc96\",\"#ab63fa\",\"#FFA15A\",\"#19d3f3\",\"#FF6692\",\"#B6E880\",\"#FF97FF\",\"#FECB52\"],\"font\":{\"color\":\"#2a3f5f\"},\"geo\":{\"bgcolor\":\"white\",\"lakecolor\":\"white\",\"landcolor\":\"#E5ECF6\",\"showlakes\":true,\"showland\":true,\"subunitcolor\":\"white\"},\"hoverlabel\":{\"align\":\"left\"},\"hovermode\":\"closest\",\"mapbox\":{\"style\":\"light\"},\"paper_bgcolor\":\"white\",\"plot_bgcolor\":\"#E5ECF6\",\"polar\":{\"angularaxis\":{\"gridcolor\":\"white\",\"linecolor\":\"white\",\"ticks\":\"\"},\"bgcolor\":\"#E5ECF6\",\"radialaxis\":{\"gridcolor\":\"white\",\"linecolor\":\"white\",\"ticks\":\"\"}},\"scene\":{\"xaxis\":{\"backgroundcolor\":\"#E5ECF6\",\"gridcolor\":\"white\",\"gridwidth\":2,\"linecolor\":\"white\",\"showbackground\":true,\"ticks\":\"\",\"zerolinecolor\":\"white\"},\"yaxis\":{\"backgroundcolor\":\"#E5ECF6\",\"gridcolor\":\"white\",\"gridwidth\":2,\"linecolor\":\"white\",\"showbackground\":true,\"ticks\":\"\",\"zerolinecolor\":\"white\"},\"zaxis\":{\"backgroundcolor\":\"#E5ECF6\",\"gridcolor\":\"white\",\"gridwidth\":2,\"linecolor\":\"white\",\"showbackground\":true,\"ticks\":\"\",\"zerolinecolor\":\"white\"}},\"shapedefaults\":{\"line\":{\"color\":\"#2a3f5f\"}},\"ternary\":{\"aaxis\":{\"gridcolor\":\"white\",\"linecolor\":\"white\",\"ticks\":\"\"},\"baxis\":{\"gridcolor\":\"white\",\"linecolor\":\"white\",\"ticks\":\"\"},\"bgcolor\":\"#E5ECF6\",\"caxis\":{\"gridcolor\":\"white\",\"linecolor\":\"white\",\"ticks\":\"\"}},\"title\":{\"x\":0.05},\"xaxis\":{\"automargin\":true,\"gridcolor\":\"white\",\"linecolor\":\"white\",\"ticks\":\"\",\"title\":{\"standoff\":15},\"zerolinecolor\":\"white\",\"zerolinewidth\":2},\"yaxis\":{\"automargin\":true,\"gridcolor\":\"white\",\"linecolor\":\"white\",\"ticks\":\"\",\"title\":{\"standoff\":15},\"zerolinecolor\":\"white\",\"zerolinewidth\":2}}},\"geo\":{\"domain\":{\"x\":[0.0,1.0],\"y\":[0.0,1.0]},\"center\":{}},\"legend\":{\"tracegroupgap\":0,\"itemsizing\":\"constant\"},\"margin\":{\"t\":60}},                        {\"responsive\": true}                    ).then(function(){\n",
              "                            \n",
              "var gd = document.getElementById('8da03024-e639-4c29-b42b-8d2c3e135d9d');\n",
              "var x = new MutationObserver(function (mutations, observer) {{\n",
              "        var display = window.getComputedStyle(gd).display;\n",
              "        if (!display || display === 'none') {{\n",
              "            console.log([gd, 'removed!']);\n",
              "            Plotly.purge(gd);\n",
              "            observer.disconnect();\n",
              "        }}\n",
              "}});\n",
              "\n",
              "// Listen for the removal of the full notebook cells\n",
              "var notebookContainer = gd.closest('#notebook-container');\n",
              "if (notebookContainer) {{\n",
              "    x.observe(notebookContainer, {childList: true});\n",
              "}}\n",
              "\n",
              "// Listen for the clearing of the current output cell\n",
              "var outputEl = gd.closest('.output');\n",
              "if (outputEl) {{\n",
              "    x.observe(outputEl, {childList: true});\n",
              "}}\n",
              "\n",
              "                        })                };                            </script>        </div>\n",
              "</body>\n",
              "</html>"
            ]
          },
          "metadata": {}
        }
      ]
    },
    {
      "cell_type": "code",
      "source": [
        "df13.index"
      ],
      "metadata": {
        "id": "T8DTDdQAAsg7",
        "outputId": "4349ee67-1b7c-4080-b5cd-38b62e842215",
        "colab": {
          "base_uri": "https://localhost:8080/"
        }
      },
      "execution_count": 60,
      "outputs": [
        {
          "output_type": "execute_result",
          "data": {
            "text/plain": [
              "Index([', France, Algeria', ', South Korea', 'Argentina',\n",
              "       'Argentina, Brazil, France, Poland, Germany, Denmark',\n",
              "       'Argentina, Chile', 'Argentina, Chile, Peru', 'Argentina, France',\n",
              "       'Argentina, France, United States, Germany, Qatar', 'Argentina, Italy',\n",
              "       'Argentina, Spain',\n",
              "       ...\n",
              "       'Uruguay, Argentina, Germany, Spain', 'Uruguay, Argentina, Spain',\n",
              "       'Uruguay, Germany', 'Uruguay, Guatemala', 'Uruguay, Spain, Mexico',\n",
              "       'Venezuela', 'Venezuela, Colombia', 'Vietnam', 'West Germany',\n",
              "       'Zimbabwe'],\n",
              "      dtype='object', name='country', length=748)"
            ]
          },
          "metadata": {},
          "execution_count": 60
        }
      ]
    },
    {
      "cell_type": "code",
      "source": [
        "app = JupyterDash(__name__)\n",
        "app.layout = html.Div(style = {'backgroundColor':colors['background']},children = [\n",
        "    html.H1('Week12',style = {'color':colors['text']})\n",
        "    \n",
        "    ])\n",
        "\n",
        "\n",
        "if __name__ == '__main__':\n",
        "  app.run_server(debug=True)"
      ],
      "metadata": {
        "colab": {
          "base_uri": "https://localhost:8080/",
          "height": 52
        },
        "id": "DAaXYRLA2sN7",
        "outputId": "7d642d94-77f9-46ab-abda-d069faf974ae"
      },
      "execution_count": 17,
      "outputs": [
        {
          "output_type": "stream",
          "name": "stdout",
          "text": [
            "Dash app running on:\n"
          ]
        },
        {
          "output_type": "display_data",
          "data": {
            "text/plain": [
              "<IPython.core.display.Javascript object>"
            ],
            "application/javascript": [
              "(async (port, path, text, element) => {\n",
              "    if (!google.colab.kernel.accessAllowed) {\n",
              "      return;\n",
              "    }\n",
              "    element.appendChild(document.createTextNode(''));\n",
              "    const url = await google.colab.kernel.proxyPort(port);\n",
              "    const anchor = document.createElement('a');\n",
              "    anchor.href = new URL(path, url).toString();\n",
              "    anchor.target = '_blank';\n",
              "    anchor.setAttribute('data-href', url + path);\n",
              "    anchor.textContent = text;\n",
              "    element.appendChild(anchor);\n",
              "  })(8050, \"/\", \"http://127.0.0.1:8050/\", window.element)"
            ]
          },
          "metadata": {}
        }
      ]
    }
  ]
}