{
  "nbformat": 4,
  "nbformat_minor": 0,
  "metadata": {
    "colab": {
      "provenance": [],
      "authorship_tag": "ABX9TyNoG+t9A1YnVoi4B2vxE9l0",
      "include_colab_link": true
    },
    "kernelspec": {
      "name": "python3",
      "display_name": "Python 3"
    },
    "language_info": {
      "name": "python"
    }
  },
  "cells": [
    {
      "cell_type": "markdown",
      "metadata": {
        "id": "view-in-github",
        "colab_type": "text"
      },
      "source": [
        "<a href=\"https://colab.research.google.com/github/boneeyah/SMU/blob/main/Dash.ipynb\" target=\"_parent\"><img src=\"https://colab.research.google.com/assets/colab-badge.svg\" alt=\"Open In Colab\"/></a>"
      ]
    },
    {
      "cell_type": "code",
      "execution_count": 1,
      "metadata": {
        "colab": {
          "base_uri": "https://localhost:8080/"
        },
        "id": "prYpor-yRaJ0",
        "outputId": "7c38a5cc-8b16-4a09-859b-e22ca25269c5"
      },
      "outputs": [
        {
          "output_type": "stream",
          "name": "stdout",
          "text": [
            "Looking in indexes: https://pypi.org/simple, https://us-python.pkg.dev/colab-wheels/public/simple/\n",
            "Requirement already satisfied: jupyter-dash in /usr/local/lib/python3.8/dist-packages (0.4.2)\n",
            "Requirement already satisfied: ipykernel in /usr/local/lib/python3.8/dist-packages (from jupyter-dash) (5.3.4)\n",
            "Requirement already satisfied: requests in /usr/local/lib/python3.8/dist-packages (from jupyter-dash) (2.23.0)\n",
            "Requirement already satisfied: nest-asyncio in /usr/local/lib/python3.8/dist-packages (from jupyter-dash) (1.5.6)\n",
            "Requirement already satisfied: ipython in /usr/local/lib/python3.8/dist-packages (from jupyter-dash) (7.9.0)\n",
            "Requirement already satisfied: ansi2html in /usr/local/lib/python3.8/dist-packages (from jupyter-dash) (1.8.0)\n",
            "Requirement already satisfied: flask in /usr/local/lib/python3.8/dist-packages (from jupyter-dash) (1.1.4)\n",
            "Requirement already satisfied: retrying in /usr/local/lib/python3.8/dist-packages (from jupyter-dash) (1.3.4)\n",
            "Requirement already satisfied: dash in /usr/local/lib/python3.8/dist-packages (from jupyter-dash) (2.7.0)\n",
            "Requirement already satisfied: dash-table==5.0.0 in /usr/local/lib/python3.8/dist-packages (from dash->jupyter-dash) (5.0.0)\n",
            "Requirement already satisfied: plotly>=5.0.0 in /usr/local/lib/python3.8/dist-packages (from dash->jupyter-dash) (5.5.0)\n",
            "Requirement already satisfied: dash-html-components==2.0.0 in /usr/local/lib/python3.8/dist-packages (from dash->jupyter-dash) (2.0.0)\n",
            "Requirement already satisfied: dash-core-components==2.0.0 in /usr/local/lib/python3.8/dist-packages (from dash->jupyter-dash) (2.0.0)\n",
            "Requirement already satisfied: click<8.0,>=5.1 in /usr/local/lib/python3.8/dist-packages (from flask->jupyter-dash) (7.1.2)\n",
            "Requirement already satisfied: Jinja2<3.0,>=2.10.1 in /usr/local/lib/python3.8/dist-packages (from flask->jupyter-dash) (2.11.3)\n",
            "Requirement already satisfied: Werkzeug<2.0,>=0.15 in /usr/local/lib/python3.8/dist-packages (from flask->jupyter-dash) (1.0.1)\n",
            "Requirement already satisfied: itsdangerous<2.0,>=0.24 in /usr/local/lib/python3.8/dist-packages (from flask->jupyter-dash) (1.1.0)\n",
            "Requirement already satisfied: MarkupSafe>=0.23 in /usr/local/lib/python3.8/dist-packages (from Jinja2<3.0,>=2.10.1->flask->jupyter-dash) (2.0.1)\n",
            "Requirement already satisfied: tenacity>=6.2.0 in /usr/local/lib/python3.8/dist-packages (from plotly>=5.0.0->dash->jupyter-dash) (8.1.0)\n",
            "Requirement already satisfied: six in /usr/local/lib/python3.8/dist-packages (from plotly>=5.0.0->dash->jupyter-dash) (1.15.0)\n",
            "Requirement already satisfied: traitlets>=4.1.0 in /usr/local/lib/python3.8/dist-packages (from ipykernel->jupyter-dash) (5.1.1)\n",
            "Requirement already satisfied: tornado>=4.2 in /usr/local/lib/python3.8/dist-packages (from ipykernel->jupyter-dash) (6.0.4)\n",
            "Requirement already satisfied: jupyter-client in /usr/local/lib/python3.8/dist-packages (from ipykernel->jupyter-dash) (6.1.12)\n",
            "Requirement already satisfied: pygments in /usr/local/lib/python3.8/dist-packages (from ipython->jupyter-dash) (2.6.1)\n",
            "Requirement already satisfied: pickleshare in /usr/local/lib/python3.8/dist-packages (from ipython->jupyter-dash) (0.7.5)\n",
            "Requirement already satisfied: prompt-toolkit<2.1.0,>=2.0.0 in /usr/local/lib/python3.8/dist-packages (from ipython->jupyter-dash) (2.0.10)\n",
            "Requirement already satisfied: jedi>=0.10 in /usr/local/lib/python3.8/dist-packages (from ipython->jupyter-dash) (0.18.2)\n",
            "Requirement already satisfied: setuptools>=18.5 in /usr/local/lib/python3.8/dist-packages (from ipython->jupyter-dash) (57.4.0)\n",
            "Requirement already satisfied: decorator in /usr/local/lib/python3.8/dist-packages (from ipython->jupyter-dash) (4.4.2)\n",
            "Requirement already satisfied: backcall in /usr/local/lib/python3.8/dist-packages (from ipython->jupyter-dash) (0.2.0)\n",
            "Requirement already satisfied: pexpect in /usr/local/lib/python3.8/dist-packages (from ipython->jupyter-dash) (4.8.0)\n",
            "Requirement already satisfied: parso<0.9.0,>=0.8.0 in /usr/local/lib/python3.8/dist-packages (from jedi>=0.10->ipython->jupyter-dash) (0.8.3)\n",
            "Requirement already satisfied: wcwidth in /usr/local/lib/python3.8/dist-packages (from prompt-toolkit<2.1.0,>=2.0.0->ipython->jupyter-dash) (0.2.5)\n",
            "Requirement already satisfied: pyzmq>=13 in /usr/local/lib/python3.8/dist-packages (from jupyter-client->ipykernel->jupyter-dash) (23.2.1)\n",
            "Requirement already satisfied: jupyter-core>=4.6.0 in /usr/local/lib/python3.8/dist-packages (from jupyter-client->ipykernel->jupyter-dash) (4.11.2)\n",
            "Requirement already satisfied: python-dateutil>=2.1 in /usr/local/lib/python3.8/dist-packages (from jupyter-client->ipykernel->jupyter-dash) (2.8.2)\n",
            "Requirement already satisfied: ptyprocess>=0.5 in /usr/local/lib/python3.8/dist-packages (from pexpect->ipython->jupyter-dash) (0.7.0)\n",
            "Requirement already satisfied: chardet<4,>=3.0.2 in /usr/local/lib/python3.8/dist-packages (from requests->jupyter-dash) (3.0.4)\n",
            "Requirement already satisfied: urllib3!=1.25.0,!=1.25.1,<1.26,>=1.21.1 in /usr/local/lib/python3.8/dist-packages (from requests->jupyter-dash) (1.24.3)\n",
            "Requirement already satisfied: idna<3,>=2.5 in /usr/local/lib/python3.8/dist-packages (from requests->jupyter-dash) (2.10)\n",
            "Requirement already satisfied: certifi>=2017.4.17 in /usr/local/lib/python3.8/dist-packages (from requests->jupyter-dash) (2022.9.24)\n"
          ]
        }
      ],
      "source": [
        "!pip install jupyter-dash"
      ]
    },
    {
      "cell_type": "code",
      "source": [
        "from jupyter_dash import JupyterDash\n",
        "from dash import dcc, html\n",
        "import plotly.express as px\n",
        "import pandas as pd"
      ],
      "metadata": {
        "id": "XP0Y7zZvnsOP"
      },
      "execution_count": 2,
      "outputs": []
    },
    {
      "cell_type": "code",
      "source": [
        "from pandas.io.parsers.readers import read_csv\n",
        "df = read_csv(\"https://raw.githubusercontent.com/boneeyah/SMU/main/netflix_titles.csv\")"
      ],
      "metadata": {
        "id": "G0HAlaFZRyUP"
      },
      "execution_count": 18,
      "outputs": []
    },
    {
      "cell_type": "code",
      "source": [
        "df.info()"
      ],
      "metadata": {
        "id": "CF9pn1kMpIP-",
        "outputId": "bc20ca06-2bdc-44c2-86c0-fb670192d82e",
        "colab": {
          "base_uri": "https://localhost:8080/"
        }
      },
      "execution_count": 19,
      "outputs": [
        {
          "output_type": "stream",
          "name": "stdout",
          "text": [
            "<class 'pandas.core.frame.DataFrame'>\n",
            "RangeIndex: 8807 entries, 0 to 8806\n",
            "Data columns (total 12 columns):\n",
            " #   Column        Non-Null Count  Dtype \n",
            "---  ------        --------------  ----- \n",
            " 0   show_id       8807 non-null   object\n",
            " 1   type          8807 non-null   object\n",
            " 2   title         8807 non-null   object\n",
            " 3   director      6173 non-null   object\n",
            " 4   cast          7982 non-null   object\n",
            " 5   country       7976 non-null   object\n",
            " 6   date_added    8797 non-null   object\n",
            " 7   release_year  8807 non-null   int64 \n",
            " 8   rating        8803 non-null   object\n",
            " 9   duration      8804 non-null   object\n",
            " 10  listed_in     8807 non-null   object\n",
            " 11  description   8807 non-null   object\n",
            "dtypes: int64(1), object(11)\n",
            "memory usage: 825.8+ KB\n"
          ]
        }
      ]
    },
    {
      "cell_type": "code",
      "source": [
        "df = df.drop(index=df[df['country'].isnull()].index)"
      ],
      "metadata": {
        "id": "zH7l_vCPred0"
      },
      "execution_count": 20,
      "outputs": []
    },
    {
      "cell_type": "code",
      "source": [
        "df.info()"
      ],
      "metadata": {
        "id": "QMPl5f6ksKwM",
        "outputId": "73762213-7a6d-4f2e-9352-0b58f9524cf3",
        "colab": {
          "base_uri": "https://localhost:8080/"
        }
      },
      "execution_count": 6,
      "outputs": [
        {
          "output_type": "stream",
          "name": "stdout",
          "text": [
            "<class 'pandas.core.frame.DataFrame'>\n",
            "Int64Index: 7976 entries, 0 to 8806\n",
            "Data columns (total 12 columns):\n",
            " #   Column        Non-Null Count  Dtype \n",
            "---  ------        --------------  ----- \n",
            " 0   show_id       7976 non-null   object\n",
            " 1   type          7976 non-null   object\n",
            " 2   title         7976 non-null   object\n",
            " 3   director      5751 non-null   object\n",
            " 4   cast          7305 non-null   object\n",
            " 5   country       7976 non-null   object\n",
            " 6   date_added    7967 non-null   object\n",
            " 7   release_year  7976 non-null   int64 \n",
            " 8   rating        7973 non-null   object\n",
            " 9   duration      7973 non-null   object\n",
            " 10  listed_in     7976 non-null   object\n",
            " 11  description   7976 non-null   object\n",
            "dtypes: int64(1), object(11)\n",
            "memory usage: 810.1+ KB\n"
          ]
        }
      ]
    },
    {
      "cell_type": "code",
      "source": [
        "colors = {\n",
        "    'background':'#111111',\n",
        "    'text':'#7fdbff'\n",
        "}"
      ],
      "metadata": {
        "id": "PF5Zdc4o4IVA"
      },
      "execution_count": 21,
      "outputs": []
    },
    {
      "cell_type": "code",
      "source": [
        "df1 = df[['country','type','show_id']]\n",
        "\n",
        "df1 = df1[['country','show_id']].groupby(by='country',as_index=False).count()\n",
        "fig1 = px.scatter_geo(data_frame=df1,locations='country',size='show_id',locationmode='country names',width = 900)\n",
        "fig1.update_layout(plot_bgcolor=colors['background'],paper_bgcolor=colors['background'],font_color = 'white')\n",
        "fig1.update_geos(bgcolor=colors['background'],landcolor='#747A76',lakecolor='black',showcountries=True)"
      ],
      "metadata": {
        "id": "NvBn0dUY8wBH",
        "outputId": "6a254761-25b4-4072-b3dc-7748b68a65c5",
        "colab": {
          "base_uri": "https://localhost:8080/",
          "height": 542
        }
      },
      "execution_count": 8,
      "outputs": [
        {
          "output_type": "display_data",
          "data": {
            "text/html": [
              "<html>\n",
              "<head><meta charset=\"utf-8\" /></head>\n",
              "<body>\n",
              "    <div>            <script src=\"https://cdnjs.cloudflare.com/ajax/libs/mathjax/2.7.5/MathJax.js?config=TeX-AMS-MML_SVG\"></script><script type=\"text/javascript\">if (window.MathJax) {MathJax.Hub.Config({SVG: {font: \"STIX-Web\"}});}</script>                <script type=\"text/javascript\">window.PlotlyConfig = {MathJaxConfig: 'local'};</script>\n",
              "        <script src=\"https://cdn.plot.ly/plotly-2.8.3.min.js\"></script>                <div id=\"f8b38ed8-f674-4b4a-95b5-202b576ce699\" class=\"plotly-graph-div\" style=\"height:525px; width:900px;\"></div>            <script type=\"text/javascript\">                                    window.PLOTLYENV=window.PLOTLYENV || {};                                    if (document.getElementById(\"f8b38ed8-f674-4b4a-95b5-202b576ce699\")) {                    Plotly.newPlot(                        \"f8b38ed8-f674-4b4a-95b5-202b576ce699\",                        [{\"geo\":\"geo\",\"hovertemplate\":\"show_id=%{marker.size}<br>country=%{location}<extra></extra>\",\"legendgroup\":\"\",\"locationmode\":\"country names\",\"locations\":[\", France, Algeria\",\", South Korea\",\"Argentina\",\"Argentina, Brazil, France, Poland, Germany, Denmark\",\"Argentina, Chile\",\"Argentina, Chile, Peru\",\"Argentina, France\",\"Argentina, France, United States, Germany, Qatar\",\"Argentina, Italy\",\"Argentina, Spain\",\"Argentina, United States\",\"Argentina, United States, Mexico\",\"Argentina, Uruguay, Serbia\",\"Argentina, Uruguay, Spain, France\",\"Argentina, Venezuela\",\"Australia\",\"Australia, Armenia, Japan, Jordan, Mexico, Mongolia, New Zealand, Philippines, South Africa, Sweden, United States, Uruguay\",\"Australia, Canada\",\"Australia, France\",\"Australia, France, Ireland\",\"Australia, Germany\",\"Australia, India\",\"Australia, Iraq\",\"Australia, New Zealand\",\"Australia, New Zealand, United States\",\"Australia, United Arab Emirates\",\"Australia, United Kingdom\",\"Australia, United Kingdom, Canada\",\"Australia, United Kingdom, United Arab Emirates, Canada\",\"Australia, United Kingdom, United States, New Zealand, Italy, France\",\"Australia, United States\",\"Austria\",\"Austria, Czech Republic\",\"Austria, Germany\",\"Austria, Iraq, United States\",\"Austria, United States\",\"Bangladesh\",\"Belarus\",\"Belgium\",\"Belgium, France\",\"Belgium, France, Netherlands\",\"Belgium, Ireland, Netherlands, Germany, Afghanistan\",\"Belgium, Netherlands\",\"Belgium, United Kingdom\",\"Belgium, United Kingdom, United States\",\"Brazil\",\"Brazil, France\",\"Brazil, France, Germany\",\"Brazil, India, China, United States\",\"Brazil, Netherlands, United States, Colombia, Austria, Germany\",\"Brazil, United Kingdom\",\"Brazil, United States\",\"Bulgaria\",\"Bulgaria, United States\",\"Bulgaria, United States, Spain, Canada\",\"Cambodia\",\"Cambodia, United States\",\"Cameroon\",\"Canada\",\"Canada, Australia\",\"Canada, Belgium\",\"Canada, Brazil\",\"Canada, France\",\"Canada, France, Italy, Morocco, United States\",\"Canada, France, United States\",\"Canada, Germany\",\"Canada, Germany, France, United States\",\"Canada, Germany, South Africa\",\"Canada, Hungary, United States\",\"Canada, India\",\"Canada, India, Thailand, United States, United Arab Emirates\",\"Canada, Ireland, United States\",\"Canada, Japan, Netherlands\",\"Canada, Japan, United States\",\"Canada, Luxembourg\",\"Canada, Mexico, Germany, South Africa\",\"Canada, Nigeria\",\"Canada, Nigeria, United States\",\"Canada, Norway\",\"Canada, South Africa\",\"Canada, South Korea, United States\",\"Canada, Spain\",\"Canada, Spain, France\",\"Canada, United Kingdom\",\"Canada, United Kingdom, Netherlands\",\"Canada, United Kingdom, United States\",\"Canada, United States\",\"Canada, United States, Cayman Islands\",\"Canada, United States, Denmark\",\"Canada, United States, France\",\"Canada, United States, Germany\",\"Canada, United States, India, United Kingdom\",\"Canada, United States, Ireland\",\"Canada, United States, Mexico\",\"Canada, United States, United Kingdom\",\"Canada, United States, United Kingdom, France, Luxembourg\",\"Chile\",\"Chile, Argentina\",\"Chile, Argentina, France, Spain, United States\",\"Chile, Brazil\",\"Chile, France\",\"Chile, Italy\",\"Chile, Peru\",\"Chile, Spain, Argentina, Germany\",\"Chile, United States, France\",\"China\",\"China, Canada, United States\",\"China, Germany, India, United States\",\"China, Hong Kong\",\"China, Hong Kong, United States\",\"China, India, Nepal\",\"China, Japan\",\"China, Morocco, Hong Kong\",\"China, South Korea, United States\",\"China, Spain, South Korea, United States\",\"China, Taiwan\",\"China, United Kingdom\",\"China, United States\",\"China, United States, Australia\",\"China, United States, Canada\",\"China, United States, United Kingdom\",\"Colombia\",\"Colombia, Mexico\",\"Colombia, Mexico, United States\",\"Colombia, Peru, United Kingdom\",\"Colombia, United States\",\"Croatia\",\"Croatia, Slovenia, Serbia, Montenegro\",\"Cyprus\",\"Czech Republic, France\",\"Czech Republic, Slovakia\",\"Czech Republic, United Kingdom, France\",\"Czech Republic, United Kingdom, United States\",\"Czech Republic, United States\",\"Denmark\",\"Denmark, Brazil, France, Portugal, Sweden\",\"Denmark, China\",\"Denmark, France, Belgium, Italy, Netherlands, United States, United Kingdom\",\"Denmark, France, Poland\",\"Denmark, France, United States, Sweden\",\"Denmark, Germany, Belgium, United Kingdom, France\",\"Denmark, Germany, Belgium, United Kingdom, France, Sweden\",\"Denmark, Indonesia, Finland, Norway, United Kingdom, Israel, France, United States, Germany, Netherlands\",\"Denmark, Singapore, Canada, United States\",\"Denmark, Spain\",\"Denmark, Sweden, Israel, United States\",\"Denmark, United Kingdom, South Africa, Sweden, Belgium\",\"Denmark, United Kingdom, Sweden\",\"Denmark, United States\",\"Denmark, Zimbabwe\",\"Egypt\",\"Egypt, Algeria\",\"Egypt, Austria, United States\",\"Egypt, Denmark, Germany\",\"Egypt, France\",\"Egypt, Saudi Arabia\",\"Finland\",\"Finland, France\",\"Finland, Germany\",\"Finland, Germany, Belgium\",\"Finland, Sweden, Norway, Latvia, Germany\",\"Finland, United States\",\"France\",\"France, Algeria\",\"France, Australia, Germany\",\"France, Belgium\",\"France, Belgium, China, United States\",\"France, Belgium, Italy\",\"France, Belgium, Luxembourg, Cambodia,\",\"France, Belgium, Luxembourg, Romania, Canada, United States\",\"France, Belgium, Spain\",\"France, Belgium, United States\",\"France, Brazil, Spain, Belgium\",\"France, Canada\",\"France, Canada, Belgium\",\"France, Canada, China, Cambodia\",\"France, Canada, Italy, United States, China\",\"France, Canada, United States\",\"France, Canada, United States, Spain\",\"France, China, Japan, United States\",\"France, Egypt\",\"France, Germany\",\"France, Germany, Czech Republic, Belgium\",\"France, Germany, Switzerland\",\"France, Iran, United States\",\"France, Israel, Germany, United States, United Kingdom\",\"France, Japan\",\"France, Japan, United States\",\"France, Lebanon\",\"France, Lebanon, United Kingdom\",\"France, Luxembourg, Canada\",\"France, Luxembourg, United States\",\"France, Malta, United States\",\"France, Morocco\",\"France, Netherlands, Singapore\",\"France, Netherlands, South Africa, Finland\",\"France, New Zealand\",\"France, Norway, Lebanon, Belgium\",\"France, Qatar\",\"France, Senegal, Belgium\",\"France, South Korea, Japan\",\"France, South Korea, Japan, United States\",\"France, Switzerland, Spain, United States, United Arab Emirates\",\"France, United Kingdom\",\"France, United Kingdom, India\",\"France, United Kingdom, United States\",\"France, United States\",\"France, United States, Canada\",\"France, United States, Mexico\",\"France, United States, United Kingdom, Canada\",\"Georgia\",\"Georgia, Germany, France\",\"Germany\",\"Germany, Australia\",\"Germany, Australia, France, China\",\"Germany, Belgium\",\"Germany, Canada, United States\",\"Germany, China, United Kingdom\",\"Germany, Czech Republic\",\"Germany, France\",\"Germany, France, Luxembourg, United Kingdom, United States\",\"Germany, France, Russia\",\"Germany, France, United States, Canada, United Kingdom\",\"Germany, Italy\",\"Germany, Jordan, Netherlands\",\"Germany, Sri Lanka\",\"Germany, United Kingdom\",\"Germany, United Kingdom, United States\",\"Germany, United States\",\"Germany, United States, Canada\",\"Germany, United States, France\",\"Germany, United States, Hong Kong, Singapore\",\"Germany, United States, Italy\",\"Germany, United States, Sweden\",\"Germany, United States, United Kingdom, Canada\",\"Ghana\",\"Ghana, United States\",\"Greece, United States\",\"Guatemala\",\"Hong Kong\",\"Hong Kong, Canada, United States\",\"Hong Kong, China\",\"Hong Kong, China, Singapore\",\"Hong Kong, China, United States\",\"Hong Kong, Iceland, United States\",\"Hong Kong, Taiwan\",\"Hong Kong, United States\",\"Hungary\",\"Hungary, United States\",\"Iceland\",\"Iceland, Sweden, Belgium\",\"India\",\"India, Australia\",\"India, Canada\",\"India, France\",\"India, Germany\",\"India, Germany, Austria\",\"India, Germany, France\",\"India, Iran\",\"India, Japan\",\"India, Malaysia\",\"India, Mexico\",\"India, Nepal\",\"India, Pakistan\",\"India, Soviet Union\",\"India, Switzerland\",\"India, Turkey\",\"India, United Kingdom\",\"India, United Kingdom, Canada, United States\",\"India, United Kingdom, China, Canada, Japan, South Korea, United States\",\"India, United Kingdom, France, Qatar\",\"India, United States\",\"Indonesia\",\"Indonesia, Netherlands\",\"Indonesia, Singapore\",\"Indonesia, South Korea, Singapore\",\"Indonesia, United Kingdom\",\"Indonesia, United States\",\"Iran, France\",\"Ireland\",\"Ireland, Canada\",\"Ireland, Canada, Luxembourg, United States, United Kingdom, Philippines, India\",\"Ireland, Canada, United Kingdom, United States\",\"Ireland, Canada, United States, United Kingdom\",\"Ireland, France, Iceland, United States, Mexico, Belgium, United Kingdom, Hong Kong\",\"Ireland, Luxembourg, Belgium\",\"Ireland, South Africa\",\"Ireland, Switzerland, United Kingdom, France, United States\",\"Ireland, United Kingdom\",\"Ireland, United Kingdom, France, Germany\",\"Ireland, United Kingdom, Greece, France, Netherlands\",\"Ireland, United Kingdom, Italy, United States\",\"Ireland, United Kingdom, United States\",\"Ireland, United States\",\"Ireland, United States, France\",\"Ireland, United States, United Kingdom\",\"Israel\",\"Israel, Germany\",\"Israel, Germany, France\",\"Israel, Germany, Poland, Luxembourg, Belgium, France, United States\",\"Israel, Sweden, Germany, Netherlands\",\"Israel, United States\",\"Italy\",\"Italy, Belgium\",\"Italy, Brazil, Greece\",\"Italy, Canada, France\",\"Italy, France\",\"Italy, France, Switzerland\",\"Italy, Germany\",\"Italy, India\",\"Italy, South Africa, West Germany, Australia, United States\",\"Italy, Switzerland, Albania, Poland\",\"Italy, Switzerland, France, Germany\",\"Italy, Turkey\",\"Italy, United Kingdom\",\"Italy, United Kingdom, France\",\"Italy, United States\",\"Italy, United States, Argentina\",\"Jamaica, United States\",\"Japan\",\"Japan, Canada\",\"Japan, Canada, United States\",\"Japan, United States\",\"Jordan\",\"Kenya\",\"Kenya, United States\",\"Kuwait\",\"Kuwait, United States\",\"Lebanon\",\"Lebanon, Canada, France\",\"Lebanon, France\",\"Lebanon, Palestine, Denmark, Qatar\",\"Lebanon, Qatar\",\"Lebanon, Syria\",\"Lebanon, United Arab Emirates\",\"Lebanon, United Arab Emirates, France, Switzerland, Germany\",\"Lebanon, United States, United Arab Emirates\",\"Luxembourg\",\"Malaysia\",\"Malaysia, Singapore, Hong Kong\",\"Mauritius\",\"Mauritius, South Africa\",\"Mexico\",\"Mexico, Argentina\",\"Mexico, Brazil\",\"Mexico, Finland\",\"Mexico, France\",\"Mexico, France, Colombia\",\"Mexico, Netherlands\",\"Mexico, Spain\",\"Mexico, United States\",\"Mexico, United States, Spain, Colombia\",\"Mozambique\",\"Namibia\",\"Netherlands\",\"Netherlands, Belgium\",\"Netherlands, Belgium, Germany, Jordan\",\"Netherlands, Belgium, United Kingdom, United States\",\"Netherlands, Denmark, France, Germany\",\"Netherlands, Denmark, South Africa\",\"Netherlands, Germany, Denmark, United Kingdom\",\"Netherlands, Germany, Italy, Canada\",\"Netherlands, United States\",\"New Zealand\",\"New Zealand, Australia, France, United States\",\"New Zealand, United Kingdom\",\"New Zealand, United Kingdom, Australia\",\"New Zealand, United States\",\"Nigeria\",\"Nigeria, United Kingdom\",\"Norway\",\"Norway, Denmark\",\"Norway, Denmark, Netherlands, Sweden\",\"Norway, Denmark, Sweden\",\"Norway, Germany\",\"Norway, Germany, Sweden\",\"Norway, Iceland, United States\",\"Norway, Sweden\",\"Norway, United Kingdom, France, Ireland\",\"Norway, United States\",\"Pakistan\",\"Pakistan, Norway, United States\",\"Pakistan, United Arab Emirates\",\"Pakistan, United States\",\"Paraguay, Argentina\",\"Peru\",\"Peru, Germany, Norway\",\"Peru, United States, United Kingdom\",\"Philippines\",\"Philippines, Canada, United Kingdom, United States\",\"Philippines, Qatar\",\"Philippines, Singapore\",\"Philippines, Singapore, Indonesia\",\"Philippines, United States\",\"Poland\",\"Poland,\",\"Poland, United States\",\"Poland, West Germany\",\"Portugal, France, Poland, United States\",\"Portugal, Spain\",\"Portugal, United States\",\"Puerto Rico, United States, Colombia\",\"Romania\",\"Romania, Bulgaria, Hungary\",\"Romania, France, Switzerland, Germany\",\"Romania, United Kingdom\",\"Romania, United States\",\"Russia\",\"Russia, Poland, Serbia\",\"Russia, Spain\",\"Russia, United States\",\"Russia, United States, China\",\"Saudi Arabia\",\"Saudi Arabia, Netherlands, Germany, Jordan, United Arab Emirates, United States\",\"Saudi Arabia, Syria, Egypt, Lebanon, Kuwait\",\"Saudi Arabia, United Arab Emirates\",\"Senegal\",\"Serbia, South Korea, Slovenia\",\"Serbia, United States\",\"Singapore\",\"Singapore, France\",\"Singapore, Japan, France\",\"Singapore, Malaysia\",\"Singapore, United States\",\"Slovenia, Croatia, Germany, Czech Republic, Qatar\",\"Somalia, Kenya, Sudan, South Africa, United States\",\"South Africa\",\"South Africa, Angola\",\"South Africa, China, United States\",\"South Africa, Germany, Netherlands, France\",\"South Africa, Nigeria\",\"South Africa, United States\",\"South Africa, United States, Germany\",\"South Africa, United States, Japan\",\"South Africa, United States, New Zealand, Canada\",\"South Korea\",\"South Korea, Canada, United States, China\",\"South Korea, China\",\"South Korea, China, United States\",\"South Korea, Czech Republic\",\"South Korea, France\",\"South Korea, Japan\",\"South Korea, United States\",\"Soviet Union, India\",\"Spain\",\"Spain, Argentina\",\"Spain, Belgium\",\"Spain, Belgium, United States\",\"Spain, Canada, United States\",\"Spain, Colombia\",\"Spain, Cuba\",\"Spain, France\",\"Spain, France, Canada\",\"Spain, France, Canada, United States\",\"Spain, France, Italy\",\"Spain, France, United Kingdom, United States\",\"Spain, France, United States\",\"Spain, France, Uruguay\",\"Spain, Germany\",\"Spain, Germany, Denmark, United States\",\"Spain, Italy\",\"Spain, Italy, Argentina\",\"Spain, Mexico\",\"Spain, Mexico, France\",\"Spain, Portugal\",\"Spain, Switzerland\",\"Spain, Thailand, United States\",\"Spain, United Kingdom\",\"Spain, United Kingdom, United States\",\"Spain, United States\",\"Sweden\",\"Sweden, Czech Republic, United Kingdom, Denmark, Netherlands\",\"Sweden, Netherlands\",\"Sweden, United Kingdom, Finland\",\"Sweden, United States\",\"Switzerland\",\"Switzerland, France\",\"Switzerland, France, Belgium, United States\",\"Switzerland, United Kingdom, Australia\",\"Switzerland, United Kingdom, United States\",\"Switzerland, United States\",\"Switzerland, Vatican City, Italy, Germany, France\",\"Syria, France, Lebanon, Qatar\",\"Taiwan\",\"Taiwan, China\",\"Taiwan, China, France, United States\",\"Taiwan, Hong Kong, United States, China\",\"Taiwan, Malaysia\",\"Thailand\",\"Thailand, Canada, United States\",\"Thailand, China, United States\",\"Thailand, United States\",\"Turkey\",\"Turkey, Azerbaijan\",\"Turkey, France, Germany, Poland\",\"Turkey, India\",\"Turkey, South Korea\",\"Turkey, United States\",\"Ukraine\",\"United Arab Emirates\",\"United Arab Emirates, Jordan\",\"United Arab Emirates, Jordan, Lebanon, Saudi Arabia\",\"United Arab Emirates, Romania\",\"United Arab Emirates, United Kingdom, India\",\"United Arab Emirates, United States\",\"United Arab Emirates, United States, United Kingdom\",\"United Kingdom\",\"United Kingdom,\",\"United Kingdom, Australia\",\"United Kingdom, Australia, Canada, United States\",\"United Kingdom, Australia, France\",\"United Kingdom, Australia, France, United States\",\"United Kingdom, Australia, United States\",\"United Kingdom, Belgium\",\"United Kingdom, Belgium, Sweden\",\"United Kingdom, Brazil, Germany\",\"United Kingdom, Canada\",\"United Kingdom, Canada, France, United States\",\"United Kingdom, Canada, Italy\",\"United Kingdom, Canada, Japan\",\"United Kingdom, Canada, United States\",\"United Kingdom, Canada, United States, Cayman Islands\",\"United Kingdom, Canada, United States, Germany\",\"United Kingdom, China\",\"United Kingdom, China, United States\",\"United Kingdom, China, United States, India\",\"United Kingdom, Czech Republic, Germany, United States\",\"United Kingdom, Czech Republic, United States, Germany, Bahamas\",\"United Kingdom, Denmark, Canada, Croatia\",\"United Kingdom, Egypt, United States\",\"United Kingdom, Finland, Germany, United States, Australia, Japan, France, Ireland\",\"United Kingdom, France\",\"United Kingdom, France, Belgium\",\"United Kingdom, France, Belgium, Canada, United States\",\"United Kingdom, France, Belgium, Ireland, United States\",\"United Kingdom, France, Belgium, United States\",\"United Kingdom, France, Canada, Belgium, United States\",\"United Kingdom, France, Germany\",\"United Kingdom, France, Germany, Spain\",\"United Kingdom, France, Germany, United States\",\"United Kingdom, France, Poland, Germany, United States\",\"United Kingdom, France, Spain, United States\",\"United Kingdom, France, United States\",\"United Kingdom, France, United States, Belgium\",\"United Kingdom, France, United States, Belgium, Luxembourg, China, Germany\",\"United Kingdom, Germany\",\"United Kingdom, Germany, Canada\",\"United Kingdom, Germany, Canada, United States\",\"United Kingdom, Germany, France, United States\",\"United Kingdom, Germany, Spain, United States\",\"United Kingdom, Germany, United Arab Emirates, New Zealand\",\"United Kingdom, Germany, United States\",\"United Kingdom, Germany, United States, France\",\"United Kingdom, Hong Kong\",\"United Kingdom, Hungary, Australia\",\"United Kingdom, India\",\"United Kingdom, India, Sweden\",\"United Kingdom, India, United States\",\"United Kingdom, Ireland\",\"United Kingdom, Ireland, United States\",\"United Kingdom, Israel, Russia\",\"United Kingdom, Italy\",\"United Kingdom, Italy, Israel, Peru, United States\",\"United Kingdom, Japan\",\"United Kingdom, Japan, United States\",\"United Kingdom, Jordan, Qatar, Iran\",\"United Kingdom, Kenya\",\"United Kingdom, Lithuania\",\"United Kingdom, Malawi\",\"United Kingdom, Namibia, South Africa, Zimbabwe, United States\",\"United Kingdom, New Zealand\",\"United Kingdom, Nigeria\",\"United Kingdom, Norway, Denmark, Germany, Sweden\",\"United Kingdom, Pakistan\",\"United Kingdom, Poland\",\"United Kingdom, Poland, United States\",\"United Kingdom, Russia\",\"United Kingdom, Russia, United States\",\"United Kingdom, Singapore\",\"United Kingdom, South Africa\",\"United Kingdom, South Africa, Australia, United States\",\"United Kingdom, South Africa, France\",\"United Kingdom, South Korea\",\"United Kingdom, Spain\",\"United Kingdom, Spain, Belgium\",\"United Kingdom, Spain, United States\",\"United Kingdom, Spain, United States, Germany\",\"United Kingdom, Thailand\",\"United Kingdom, Ukraine, United States\",\"United Kingdom, United States\",\"United Kingdom, United States, Australia\",\"United Kingdom, United States, Canada\",\"United Kingdom, United States, Czech Republic\",\"United Kingdom, United States, Dominican Republic\",\"United Kingdom, United States, France\",\"United Kingdom, United States, France, Germany\",\"United Kingdom, United States, France, Italy\",\"United Kingdom, United States, Germany, Denmark, Belgium, Japan\",\"United Kingdom, United States, Ireland\",\"United Kingdom, United States, Japan\",\"United Kingdom, United States, Morocco\",\"United Kingdom, United States, Spain, Germany, Greece, Canada\",\"United Kingdom, West Germany\",\"United States\",\"United States,\",\"United States, Argentina\",\"United States, Australia\",\"United States, Australia, China\",\"United States, Australia, Mexico\",\"United States, Australia, Samoa, United Kingdom\",\"United States, Australia, South Africa, United Kingdom\",\"United States, Belgium, Canada, France\",\"United States, Bermuda, Ecuador\",\"United States, Botswana\",\"United States, Brazil\",\"United States, Brazil, India, Uganda, China\",\"United States, Brazil, Japan, Spain, India\",\"United States, Brazil, South Korea, Mexico, Japan, Germany\",\"United States, Bulgaria\",\"United States, Cambodia\",\"United States, Cambodia, Romania\",\"United States, Canada\",\"United States, Canada, Belgium, United Kingdom\",\"United States, Canada, China\",\"United States, Canada, France\",\"United States, Canada, Germany\",\"United States, Canada, Indonesia, United Kingdom, China, Singapore\",\"United States, Canada, Ireland\",\"United States, Canada, Japan, Panama\",\"United States, Canada, United Kingdom\",\"United States, Chile\",\"United States, Chile, Israel\",\"United States, China\",\"United States, China, Canada\",\"United States, China, Colombia\",\"United States, China, Hong Kong\",\"United States, China, United Kingdom\",\"United States, Colombia\",\"United States, Colombia, Mexico\",\"United States, Czech Republic\",\"United States, Czech Republic, United Kingdom\",\"United States, Denmark\",\"United States, East Germany, West Germany\",\"United States, France\",\"United States, France, Canada\",\"United States, France, Canada, Belgium\",\"United States, France, Canada, Lebanon, Qatar\",\"United States, France, Canada, Spain\",\"United States, France, Denmark\",\"United States, France, Italy, United Kingdom\",\"United States, France, Japan\",\"United States, France, Mexico\",\"United States, France, Serbia\",\"United States, France, South Korea, Indonesia\",\"United States, France, United Kingdom\",\"United States, France, United Kingdom, Japan\",\"United States, Germany\",\"United States, Germany, Australia\",\"United States, Germany, Canada\",\"United States, Germany, Mexico\",\"United States, Germany, United Kingdom\",\"United States, Germany, United Kingdom, Australia\",\"United States, Germany, United Kingdom, Italy\",\"United States, Ghana, Burkina Faso, United Kingdom, Germany, Ethiopia\",\"United States, Greece\",\"United States, Greece, Brazil\",\"United States, Greece, United Kingdom\",\"United States, Hong Kong\",\"United States, Hungary\",\"United States, Hungary, Ireland, Canada\",\"United States, Iceland\",\"United States, India\",\"United States, India, Bangladesh\",\"United States, India, France\",\"United States, India, South Korea, China\",\"United States, India, United Arab Emirates\",\"United States, India, United Kingdom\",\"United States, Indonesia\",\"United States, Ireland\",\"United States, Ireland, United Kingdom, India\",\"United States, Israel, Italy, South Africa\",\"United States, Israel, United Kingdom, Canada\",\"United States, Italy\",\"United States, Italy, France, Japan\",\"United States, Italy, Romania, United Kingdom\",\"United States, Italy, United Kingdom, Liechtenstein\",\"United States, Japan\",\"United States, Japan, Canada\",\"United States, Kazakhstan\",\"United States, Malta, France, United Kingdom\",\"United States, Mexico\",\"United States, Mexico, Colombia\",\"United States, Mexico, Spain, Malta\",\"United States, Morocco\",\"United States, Netherlands, Japan, France\",\"United States, New Zealand\",\"United States, New Zealand, Japan\",\"United States, New Zealand, United Kingdom\",\"United States, Nicaragua\",\"United States, Nigeria\",\"United States, Norway, Canada\",\"United States, Philippines\",\"United States, Poland\",\"United States, Russia\",\"United States, Senegal\",\"United States, Singapore\",\"United States, South Africa\",\"United States, South Korea\",\"United States, South Korea, China\",\"United States, South Korea, Japan\",\"United States, Spain\",\"United States, Spain, Germany\",\"United States, Sweden\",\"United States, Sweden, Norway\",\"United States, Switzerland\",\"United States, Taiwan\",\"United States, Thailand\",\"United States, United Arab Emirates\",\"United States, United Kingdom\",\"United States, United Kingdom, Australia\",\"United States, United Kingdom, Canada\",\"United States, United Kingdom, Canada, China\",\"United States, United Kingdom, Canada, Japan\",\"United States, United Kingdom, Denmark, Sweden\",\"United States, United Kingdom, France\",\"United States, United Kingdom, France, Germany, Japan\",\"United States, United Kingdom, Germany\",\"United States, United Kingdom, Germany, Hungary\",\"United States, United Kingdom, India\",\"United States, United Kingdom, Italy\",\"United States, United Kingdom, Japan\",\"United States, United Kingdom, Morocco\",\"United States, United Kingdom, New Zealand\",\"United States, United Kingdom, Spain, South Korea\",\"United States, Uruguay\",\"United States, Venezuela\",\"Uruguay\",\"Uruguay, Argentina\",\"Uruguay, Argentina, Germany, Spain\",\"Uruguay, Argentina, Spain\",\"Uruguay, Germany\",\"Uruguay, Guatemala\",\"Uruguay, Spain, Mexico\",\"Venezuela\",\"Venezuela, Colombia\",\"Vietnam\",\"West Germany\",\"Zimbabwe\"],\"marker\":{\"color\":\"#636efa\",\"size\":[1,1,56,1,2,1,1,1,1,8,1,1,1,1,1,87,1,2,1,1,1,1,1,1,1,2,2,1,1,1,13,5,1,1,1,1,3,1,9,3,1,1,2,1,1,77,2,1,1,1,1,1,1,3,1,1,1,1,181,2,1,1,1,1,1,1,1,1,1,2,1,1,1,1,1,1,1,1,1,2,1,1,1,2,1,2,45,1,1,2,1,1,1,1,4,1,14,1,1,1,1,1,1,1,1,66,3,1,14,1,1,1,1,1,1,2,3,2,1,1,1,35,1,2,1,1,1,1,1,1,1,1,1,2,13,1,1,1,1,1,1,1,1,1,1,1,1,1,3,1,106,1,1,1,2,1,1,1,1,1,1,1,124,1,1,27,1,1,1,1,1,1,1,3,1,1,1,1,1,1,3,1,1,1,1,1,1,2,1,1,1,1,1,1,1,1,1,1,1,1,1,1,1,1,1,2,10,1,1,1,1,1,67,1,1,1,1,1,2,1,1,1,1,1,1,1,2,1,13,1,1,1,1,1,1,3,1,1,1,53,1,16,1,2,1,1,4,4,1,5,1,972,1,1,5,2,1,1,1,1,1,1,1,1,2,1,1,2,1,1,1,10,79,1,2,1,1,1,1,10,1,1,1,1,1,1,1,1,2,1,1,1,2,1,1,1,13,1,1,1,1,5,45,1,1,1,5,1,1,1,1,1,1,1,1,1,4,1,1,245,1,1,12,2,3,1,6,1,15,2,1,1,1,1,1,1,1,1,22,1,1,1,110,1,1,1,1,1,1,4,13,1,1,1,19,2,1,1,1,1,1,1,1,12,1,1,1,2,95,1,11,1,1,1,1,1,2,1,1,1,18,1,1,2,1,4,1,1,75,1,1,1,1,1,24,1,4,1,1,2,1,1,6,1,1,1,1,15,1,1,1,1,8,1,1,1,1,1,2,23,1,1,1,2,1,1,30,1,1,1,1,4,1,1,1,199,1,1,1,1,1,1,6,1,145,3,1,1,1,1,1,5,1,1,1,1,1,1,3,1,2,1,2,1,1,1,1,2,1,1,13,1,1,1,3,2,1,1,1,1,1,1,1,81,1,1,1,1,61,1,1,2,105,1,1,1,1,2,2,14,1,1,1,1,2,1,419,2,1,1,1,1,1,2,1,1,4,1,1,1,8,1,1,1,1,1,1,1,1,1,1,6,1,1,1,1,1,1,1,2,1,1,4,1,1,4,1,1,1,1,1,2,1,1,1,2,1,2,3,1,1,2,1,1,3,1,1,1,1,1,1,2,1,1,1,1,1,1,1,1,1,1,1,1,1,1,1,1,1,75,3,1,1,1,2,1,1,1,1,1,1,4,1,2818,1,2,11,1,1,1,1,1,1,1,1,1,1,1,4,1,1,73,1,1,1,1,1,1,1,1,3,1,8,1,1,2,1,3,1,5,1,1,1,16,1,1,1,1,1,1,7,1,1,1,1,1,17,1,3,1,1,1,1,1,2,1,1,3,1,1,1,9,1,1,1,1,1,1,3,1,1,1,5,1,1,1,16,2,1,1,14,1,1,1,1,5,1,1,1,2,1,1,1,4,1,1,3,2,2,1,4,1,3,1,1,1,2,3,47,4,2,1,1,1,4,1,2,1,1,1,1,1,1,1,1,1,3,1,1,1,1,1,1,1,1,7,1,1],\"sizemode\":\"area\",\"sizeref\":7.045,\"symbol\":\"circle\"},\"mode\":\"markers\",\"name\":\"\",\"showlegend\":false,\"type\":\"scattergeo\"}],                        {\"template\":{\"data\":{\"bar\":[{\"error_x\":{\"color\":\"#2a3f5f\"},\"error_y\":{\"color\":\"#2a3f5f\"},\"marker\":{\"line\":{\"color\":\"#E5ECF6\",\"width\":0.5},\"pattern\":{\"fillmode\":\"overlay\",\"size\":10,\"solidity\":0.2}},\"type\":\"bar\"}],\"barpolar\":[{\"marker\":{\"line\":{\"color\":\"#E5ECF6\",\"width\":0.5},\"pattern\":{\"fillmode\":\"overlay\",\"size\":10,\"solidity\":0.2}},\"type\":\"barpolar\"}],\"carpet\":[{\"aaxis\":{\"endlinecolor\":\"#2a3f5f\",\"gridcolor\":\"white\",\"linecolor\":\"white\",\"minorgridcolor\":\"white\",\"startlinecolor\":\"#2a3f5f\"},\"baxis\":{\"endlinecolor\":\"#2a3f5f\",\"gridcolor\":\"white\",\"linecolor\":\"white\",\"minorgridcolor\":\"white\",\"startlinecolor\":\"#2a3f5f\"},\"type\":\"carpet\"}],\"choropleth\":[{\"colorbar\":{\"outlinewidth\":0,\"ticks\":\"\"},\"type\":\"choropleth\"}],\"contour\":[{\"colorbar\":{\"outlinewidth\":0,\"ticks\":\"\"},\"colorscale\":[[0.0,\"#0d0887\"],[0.1111111111111111,\"#46039f\"],[0.2222222222222222,\"#7201a8\"],[0.3333333333333333,\"#9c179e\"],[0.4444444444444444,\"#bd3786\"],[0.5555555555555556,\"#d8576b\"],[0.6666666666666666,\"#ed7953\"],[0.7777777777777778,\"#fb9f3a\"],[0.8888888888888888,\"#fdca26\"],[1.0,\"#f0f921\"]],\"type\":\"contour\"}],\"contourcarpet\":[{\"colorbar\":{\"outlinewidth\":0,\"ticks\":\"\"},\"type\":\"contourcarpet\"}],\"heatmap\":[{\"colorbar\":{\"outlinewidth\":0,\"ticks\":\"\"},\"colorscale\":[[0.0,\"#0d0887\"],[0.1111111111111111,\"#46039f\"],[0.2222222222222222,\"#7201a8\"],[0.3333333333333333,\"#9c179e\"],[0.4444444444444444,\"#bd3786\"],[0.5555555555555556,\"#d8576b\"],[0.6666666666666666,\"#ed7953\"],[0.7777777777777778,\"#fb9f3a\"],[0.8888888888888888,\"#fdca26\"],[1.0,\"#f0f921\"]],\"type\":\"heatmap\"}],\"heatmapgl\":[{\"colorbar\":{\"outlinewidth\":0,\"ticks\":\"\"},\"colorscale\":[[0.0,\"#0d0887\"],[0.1111111111111111,\"#46039f\"],[0.2222222222222222,\"#7201a8\"],[0.3333333333333333,\"#9c179e\"],[0.4444444444444444,\"#bd3786\"],[0.5555555555555556,\"#d8576b\"],[0.6666666666666666,\"#ed7953\"],[0.7777777777777778,\"#fb9f3a\"],[0.8888888888888888,\"#fdca26\"],[1.0,\"#f0f921\"]],\"type\":\"heatmapgl\"}],\"histogram\":[{\"marker\":{\"pattern\":{\"fillmode\":\"overlay\",\"size\":10,\"solidity\":0.2}},\"type\":\"histogram\"}],\"histogram2d\":[{\"colorbar\":{\"outlinewidth\":0,\"ticks\":\"\"},\"colorscale\":[[0.0,\"#0d0887\"],[0.1111111111111111,\"#46039f\"],[0.2222222222222222,\"#7201a8\"],[0.3333333333333333,\"#9c179e\"],[0.4444444444444444,\"#bd3786\"],[0.5555555555555556,\"#d8576b\"],[0.6666666666666666,\"#ed7953\"],[0.7777777777777778,\"#fb9f3a\"],[0.8888888888888888,\"#fdca26\"],[1.0,\"#f0f921\"]],\"type\":\"histogram2d\"}],\"histogram2dcontour\":[{\"colorbar\":{\"outlinewidth\":0,\"ticks\":\"\"},\"colorscale\":[[0.0,\"#0d0887\"],[0.1111111111111111,\"#46039f\"],[0.2222222222222222,\"#7201a8\"],[0.3333333333333333,\"#9c179e\"],[0.4444444444444444,\"#bd3786\"],[0.5555555555555556,\"#d8576b\"],[0.6666666666666666,\"#ed7953\"],[0.7777777777777778,\"#fb9f3a\"],[0.8888888888888888,\"#fdca26\"],[1.0,\"#f0f921\"]],\"type\":\"histogram2dcontour\"}],\"mesh3d\":[{\"colorbar\":{\"outlinewidth\":0,\"ticks\":\"\"},\"type\":\"mesh3d\"}],\"parcoords\":[{\"line\":{\"colorbar\":{\"outlinewidth\":0,\"ticks\":\"\"}},\"type\":\"parcoords\"}],\"pie\":[{\"automargin\":true,\"type\":\"pie\"}],\"scatter\":[{\"marker\":{\"colorbar\":{\"outlinewidth\":0,\"ticks\":\"\"}},\"type\":\"scatter\"}],\"scatter3d\":[{\"line\":{\"colorbar\":{\"outlinewidth\":0,\"ticks\":\"\"}},\"marker\":{\"colorbar\":{\"outlinewidth\":0,\"ticks\":\"\"}},\"type\":\"scatter3d\"}],\"scattercarpet\":[{\"marker\":{\"colorbar\":{\"outlinewidth\":0,\"ticks\":\"\"}},\"type\":\"scattercarpet\"}],\"scattergeo\":[{\"marker\":{\"colorbar\":{\"outlinewidth\":0,\"ticks\":\"\"}},\"type\":\"scattergeo\"}],\"scattergl\":[{\"marker\":{\"colorbar\":{\"outlinewidth\":0,\"ticks\":\"\"}},\"type\":\"scattergl\"}],\"scattermapbox\":[{\"marker\":{\"colorbar\":{\"outlinewidth\":0,\"ticks\":\"\"}},\"type\":\"scattermapbox\"}],\"scatterpolar\":[{\"marker\":{\"colorbar\":{\"outlinewidth\":0,\"ticks\":\"\"}},\"type\":\"scatterpolar\"}],\"scatterpolargl\":[{\"marker\":{\"colorbar\":{\"outlinewidth\":0,\"ticks\":\"\"}},\"type\":\"scatterpolargl\"}],\"scatterternary\":[{\"marker\":{\"colorbar\":{\"outlinewidth\":0,\"ticks\":\"\"}},\"type\":\"scatterternary\"}],\"surface\":[{\"colorbar\":{\"outlinewidth\":0,\"ticks\":\"\"},\"colorscale\":[[0.0,\"#0d0887\"],[0.1111111111111111,\"#46039f\"],[0.2222222222222222,\"#7201a8\"],[0.3333333333333333,\"#9c179e\"],[0.4444444444444444,\"#bd3786\"],[0.5555555555555556,\"#d8576b\"],[0.6666666666666666,\"#ed7953\"],[0.7777777777777778,\"#fb9f3a\"],[0.8888888888888888,\"#fdca26\"],[1.0,\"#f0f921\"]],\"type\":\"surface\"}],\"table\":[{\"cells\":{\"fill\":{\"color\":\"#EBF0F8\"},\"line\":{\"color\":\"white\"}},\"header\":{\"fill\":{\"color\":\"#C8D4E3\"},\"line\":{\"color\":\"white\"}},\"type\":\"table\"}]},\"layout\":{\"annotationdefaults\":{\"arrowcolor\":\"#2a3f5f\",\"arrowhead\":0,\"arrowwidth\":1},\"autotypenumbers\":\"strict\",\"coloraxis\":{\"colorbar\":{\"outlinewidth\":0,\"ticks\":\"\"}},\"colorscale\":{\"diverging\":[[0,\"#8e0152\"],[0.1,\"#c51b7d\"],[0.2,\"#de77ae\"],[0.3,\"#f1b6da\"],[0.4,\"#fde0ef\"],[0.5,\"#f7f7f7\"],[0.6,\"#e6f5d0\"],[0.7,\"#b8e186\"],[0.8,\"#7fbc41\"],[0.9,\"#4d9221\"],[1,\"#276419\"]],\"sequential\":[[0.0,\"#0d0887\"],[0.1111111111111111,\"#46039f\"],[0.2222222222222222,\"#7201a8\"],[0.3333333333333333,\"#9c179e\"],[0.4444444444444444,\"#bd3786\"],[0.5555555555555556,\"#d8576b\"],[0.6666666666666666,\"#ed7953\"],[0.7777777777777778,\"#fb9f3a\"],[0.8888888888888888,\"#fdca26\"],[1.0,\"#f0f921\"]],\"sequentialminus\":[[0.0,\"#0d0887\"],[0.1111111111111111,\"#46039f\"],[0.2222222222222222,\"#7201a8\"],[0.3333333333333333,\"#9c179e\"],[0.4444444444444444,\"#bd3786\"],[0.5555555555555556,\"#d8576b\"],[0.6666666666666666,\"#ed7953\"],[0.7777777777777778,\"#fb9f3a\"],[0.8888888888888888,\"#fdca26\"],[1.0,\"#f0f921\"]]},\"colorway\":[\"#636efa\",\"#EF553B\",\"#00cc96\",\"#ab63fa\",\"#FFA15A\",\"#19d3f3\",\"#FF6692\",\"#B6E880\",\"#FF97FF\",\"#FECB52\"],\"font\":{\"color\":\"#2a3f5f\"},\"geo\":{\"bgcolor\":\"white\",\"lakecolor\":\"white\",\"landcolor\":\"#E5ECF6\",\"showlakes\":true,\"showland\":true,\"subunitcolor\":\"white\"},\"hoverlabel\":{\"align\":\"left\"},\"hovermode\":\"closest\",\"mapbox\":{\"style\":\"light\"},\"paper_bgcolor\":\"white\",\"plot_bgcolor\":\"#E5ECF6\",\"polar\":{\"angularaxis\":{\"gridcolor\":\"white\",\"linecolor\":\"white\",\"ticks\":\"\"},\"bgcolor\":\"#E5ECF6\",\"radialaxis\":{\"gridcolor\":\"white\",\"linecolor\":\"white\",\"ticks\":\"\"}},\"scene\":{\"xaxis\":{\"backgroundcolor\":\"#E5ECF6\",\"gridcolor\":\"white\",\"gridwidth\":2,\"linecolor\":\"white\",\"showbackground\":true,\"ticks\":\"\",\"zerolinecolor\":\"white\"},\"yaxis\":{\"backgroundcolor\":\"#E5ECF6\",\"gridcolor\":\"white\",\"gridwidth\":2,\"linecolor\":\"white\",\"showbackground\":true,\"ticks\":\"\",\"zerolinecolor\":\"white\"},\"zaxis\":{\"backgroundcolor\":\"#E5ECF6\",\"gridcolor\":\"white\",\"gridwidth\":2,\"linecolor\":\"white\",\"showbackground\":true,\"ticks\":\"\",\"zerolinecolor\":\"white\"}},\"shapedefaults\":{\"line\":{\"color\":\"#2a3f5f\"}},\"ternary\":{\"aaxis\":{\"gridcolor\":\"white\",\"linecolor\":\"white\",\"ticks\":\"\"},\"baxis\":{\"gridcolor\":\"white\",\"linecolor\":\"white\",\"ticks\":\"\"},\"bgcolor\":\"#E5ECF6\",\"caxis\":{\"gridcolor\":\"white\",\"linecolor\":\"white\",\"ticks\":\"\"}},\"title\":{\"x\":0.05},\"xaxis\":{\"automargin\":true,\"gridcolor\":\"white\",\"linecolor\":\"white\",\"ticks\":\"\",\"title\":{\"standoff\":15},\"zerolinecolor\":\"white\",\"zerolinewidth\":2},\"yaxis\":{\"automargin\":true,\"gridcolor\":\"white\",\"linecolor\":\"white\",\"ticks\":\"\",\"title\":{\"standoff\":15},\"zerolinecolor\":\"white\",\"zerolinewidth\":2}}},\"geo\":{\"domain\":{\"x\":[0.0,1.0],\"y\":[0.0,1.0]},\"center\":{},\"bgcolor\":\"#111111\",\"landcolor\":\"#747A76\",\"lakecolor\":\"black\",\"showcountries\":true},\"legend\":{\"tracegroupgap\":0,\"itemsizing\":\"constant\"},\"margin\":{\"t\":60},\"width\":900,\"font\":{\"color\":\"white\"},\"plot_bgcolor\":\"#111111\",\"paper_bgcolor\":\"#111111\"},                        {\"responsive\": true}                    ).then(function(){\n",
              "                            \n",
              "var gd = document.getElementById('f8b38ed8-f674-4b4a-95b5-202b576ce699');\n",
              "var x = new MutationObserver(function (mutations, observer) {{\n",
              "        var display = window.getComputedStyle(gd).display;\n",
              "        if (!display || display === 'none') {{\n",
              "            console.log([gd, 'removed!']);\n",
              "            Plotly.purge(gd);\n",
              "            observer.disconnect();\n",
              "        }}\n",
              "}});\n",
              "\n",
              "// Listen for the removal of the full notebook cells\n",
              "var notebookContainer = gd.closest('#notebook-container');\n",
              "if (notebookContainer) {{\n",
              "    x.observe(notebookContainer, {childList: true});\n",
              "}}\n",
              "\n",
              "// Listen for the clearing of the current output cell\n",
              "var outputEl = gd.closest('.output');\n",
              "if (outputEl) {{\n",
              "    x.observe(outputEl, {childList: true});\n",
              "}}\n",
              "\n",
              "                        })                };                            </script>        </div>\n",
              "</body>\n",
              "</html>"
            ]
          },
          "metadata": {}
        }
      ]
    },
    {
      "cell_type": "code",
      "source": [
        "df2 = df[['type','country','show_id','release_year']].groupby(by=['release_year','type'],as_index=False).count()\n",
        "fig2 = px.line(data_frame=df2,x='release_year',y='show_id',color='type',width = 900)\n",
        "fig2.update_layout(plot_bgcolor=colors['background'],paper_bgcolor=colors['background'],font_color = 'white')"
      ],
      "metadata": {
        "colab": {
          "base_uri": "https://localhost:8080/",
          "height": 542
        },
        "id": "dzCzu5y9nCUM",
        "outputId": "ad0f8654-b2f6-413a-f1bf-97c5b1ad86c9"
      },
      "execution_count": 9,
      "outputs": [
        {
          "output_type": "display_data",
          "data": {
            "text/html": [
              "<html>\n",
              "<head><meta charset=\"utf-8\" /></head>\n",
              "<body>\n",
              "    <div>            <script src=\"https://cdnjs.cloudflare.com/ajax/libs/mathjax/2.7.5/MathJax.js?config=TeX-AMS-MML_SVG\"></script><script type=\"text/javascript\">if (window.MathJax) {MathJax.Hub.Config({SVG: {font: \"STIX-Web\"}});}</script>                <script type=\"text/javascript\">window.PlotlyConfig = {MathJaxConfig: 'local'};</script>\n",
              "        <script src=\"https://cdn.plot.ly/plotly-2.8.3.min.js\"></script>                <div id=\"b3db8f15-59c2-4891-acc6-5bed6e3f349a\" class=\"plotly-graph-div\" style=\"height:525px; width:900px;\"></div>            <script type=\"text/javascript\">                                    window.PLOTLYENV=window.PLOTLYENV || {};                                    if (document.getElementById(\"b3db8f15-59c2-4891-acc6-5bed6e3f349a\")) {                    Plotly.newPlot(                        \"b3db8f15-59c2-4891-acc6-5bed6e3f349a\",                        [{\"hovertemplate\":\"type=Movie<br>release_year=%{x}<br>show_id=%{y}<extra></extra>\",\"legendgroup\":\"Movie\",\"line\":{\"color\":\"#636efa\",\"dash\":\"solid\"},\"marker\":{\"symbol\":\"circle\"},\"mode\":\"lines\",\"name\":\"Movie\",\"orientation\":\"v\",\"showlegend\":true,\"x\":[1942,1943,1944,1945,1946,1947,1954,1955,1956,1958,1959,1960,1961,1962,1963,1964,1965,1966,1967,1968,1969,1970,1971,1972,1973,1974,1975,1976,1977,1978,1979,1980,1981,1982,1983,1984,1985,1986,1987,1988,1989,1990,1991,1992,1993,1994,1995,1996,1997,1998,1999,2000,2001,2002,2003,2004,2005,2006,2007,2008,2009,2010,2011,2012,2013,2014,2015,2016,2017,2018,2019,2020,2021],\"xaxis\":\"x\",\"y\":[2,3,3,3,1,1,2,3,2,3,1,3,1,3,1,2,2,1,4,3,2,2,5,4,10,6,7,9,6,7,10,11,10,15,10,11,8,11,8,15,15,17,15,19,23,20,22,19,33,32,31,32,39,44,50,54,66,81,74,112,112,147,140,167,212,252,376,638,730,713,565,461,169],\"yaxis\":\"y\",\"type\":\"scatter\"},{\"hovertemplate\":\"type=TV Show<br>release_year=%{x}<br>show_id=%{y}<extra></extra>\",\"legendgroup\":\"TV Show\",\"line\":{\"color\":\"#EF553B\",\"dash\":\"solid\"},\"marker\":{\"symbol\":\"circle\"},\"mode\":\"lines\",\"name\":\"TV Show\",\"orientation\":\"v\",\"showlegend\":true,\"x\":[1945,1946,1963,1967,1972,1974,1977,1979,1981,1985,1986,1988,1989,1990,1992,1993,1994,1995,1996,1997,1998,1999,2000,2001,2002,2003,2004,2005,2006,2007,2008,2009,2010,2011,2012,2013,2014,2015,2016,2017,2018,2019,2020,2021],\"xaxis\":\"x\",\"y\":[1,1,1,1,1,1,1,1,1,1,2,2,1,3,3,4,1,2,2,4,4,7,4,5,6,9,8,13,14,13,20,30,31,39,55,58,81,140,200,236,325,348,391,214],\"yaxis\":\"y\",\"type\":\"scatter\"}],                        {\"template\":{\"data\":{\"bar\":[{\"error_x\":{\"color\":\"#2a3f5f\"},\"error_y\":{\"color\":\"#2a3f5f\"},\"marker\":{\"line\":{\"color\":\"#E5ECF6\",\"width\":0.5},\"pattern\":{\"fillmode\":\"overlay\",\"size\":10,\"solidity\":0.2}},\"type\":\"bar\"}],\"barpolar\":[{\"marker\":{\"line\":{\"color\":\"#E5ECF6\",\"width\":0.5},\"pattern\":{\"fillmode\":\"overlay\",\"size\":10,\"solidity\":0.2}},\"type\":\"barpolar\"}],\"carpet\":[{\"aaxis\":{\"endlinecolor\":\"#2a3f5f\",\"gridcolor\":\"white\",\"linecolor\":\"white\",\"minorgridcolor\":\"white\",\"startlinecolor\":\"#2a3f5f\"},\"baxis\":{\"endlinecolor\":\"#2a3f5f\",\"gridcolor\":\"white\",\"linecolor\":\"white\",\"minorgridcolor\":\"white\",\"startlinecolor\":\"#2a3f5f\"},\"type\":\"carpet\"}],\"choropleth\":[{\"colorbar\":{\"outlinewidth\":0,\"ticks\":\"\"},\"type\":\"choropleth\"}],\"contour\":[{\"colorbar\":{\"outlinewidth\":0,\"ticks\":\"\"},\"colorscale\":[[0.0,\"#0d0887\"],[0.1111111111111111,\"#46039f\"],[0.2222222222222222,\"#7201a8\"],[0.3333333333333333,\"#9c179e\"],[0.4444444444444444,\"#bd3786\"],[0.5555555555555556,\"#d8576b\"],[0.6666666666666666,\"#ed7953\"],[0.7777777777777778,\"#fb9f3a\"],[0.8888888888888888,\"#fdca26\"],[1.0,\"#f0f921\"]],\"type\":\"contour\"}],\"contourcarpet\":[{\"colorbar\":{\"outlinewidth\":0,\"ticks\":\"\"},\"type\":\"contourcarpet\"}],\"heatmap\":[{\"colorbar\":{\"outlinewidth\":0,\"ticks\":\"\"},\"colorscale\":[[0.0,\"#0d0887\"],[0.1111111111111111,\"#46039f\"],[0.2222222222222222,\"#7201a8\"],[0.3333333333333333,\"#9c179e\"],[0.4444444444444444,\"#bd3786\"],[0.5555555555555556,\"#d8576b\"],[0.6666666666666666,\"#ed7953\"],[0.7777777777777778,\"#fb9f3a\"],[0.8888888888888888,\"#fdca26\"],[1.0,\"#f0f921\"]],\"type\":\"heatmap\"}],\"heatmapgl\":[{\"colorbar\":{\"outlinewidth\":0,\"ticks\":\"\"},\"colorscale\":[[0.0,\"#0d0887\"],[0.1111111111111111,\"#46039f\"],[0.2222222222222222,\"#7201a8\"],[0.3333333333333333,\"#9c179e\"],[0.4444444444444444,\"#bd3786\"],[0.5555555555555556,\"#d8576b\"],[0.6666666666666666,\"#ed7953\"],[0.7777777777777778,\"#fb9f3a\"],[0.8888888888888888,\"#fdca26\"],[1.0,\"#f0f921\"]],\"type\":\"heatmapgl\"}],\"histogram\":[{\"marker\":{\"pattern\":{\"fillmode\":\"overlay\",\"size\":10,\"solidity\":0.2}},\"type\":\"histogram\"}],\"histogram2d\":[{\"colorbar\":{\"outlinewidth\":0,\"ticks\":\"\"},\"colorscale\":[[0.0,\"#0d0887\"],[0.1111111111111111,\"#46039f\"],[0.2222222222222222,\"#7201a8\"],[0.3333333333333333,\"#9c179e\"],[0.4444444444444444,\"#bd3786\"],[0.5555555555555556,\"#d8576b\"],[0.6666666666666666,\"#ed7953\"],[0.7777777777777778,\"#fb9f3a\"],[0.8888888888888888,\"#fdca26\"],[1.0,\"#f0f921\"]],\"type\":\"histogram2d\"}],\"histogram2dcontour\":[{\"colorbar\":{\"outlinewidth\":0,\"ticks\":\"\"},\"colorscale\":[[0.0,\"#0d0887\"],[0.1111111111111111,\"#46039f\"],[0.2222222222222222,\"#7201a8\"],[0.3333333333333333,\"#9c179e\"],[0.4444444444444444,\"#bd3786\"],[0.5555555555555556,\"#d8576b\"],[0.6666666666666666,\"#ed7953\"],[0.7777777777777778,\"#fb9f3a\"],[0.8888888888888888,\"#fdca26\"],[1.0,\"#f0f921\"]],\"type\":\"histogram2dcontour\"}],\"mesh3d\":[{\"colorbar\":{\"outlinewidth\":0,\"ticks\":\"\"},\"type\":\"mesh3d\"}],\"parcoords\":[{\"line\":{\"colorbar\":{\"outlinewidth\":0,\"ticks\":\"\"}},\"type\":\"parcoords\"}],\"pie\":[{\"automargin\":true,\"type\":\"pie\"}],\"scatter\":[{\"marker\":{\"colorbar\":{\"outlinewidth\":0,\"ticks\":\"\"}},\"type\":\"scatter\"}],\"scatter3d\":[{\"line\":{\"colorbar\":{\"outlinewidth\":0,\"ticks\":\"\"}},\"marker\":{\"colorbar\":{\"outlinewidth\":0,\"ticks\":\"\"}},\"type\":\"scatter3d\"}],\"scattercarpet\":[{\"marker\":{\"colorbar\":{\"outlinewidth\":0,\"ticks\":\"\"}},\"type\":\"scattercarpet\"}],\"scattergeo\":[{\"marker\":{\"colorbar\":{\"outlinewidth\":0,\"ticks\":\"\"}},\"type\":\"scattergeo\"}],\"scattergl\":[{\"marker\":{\"colorbar\":{\"outlinewidth\":0,\"ticks\":\"\"}},\"type\":\"scattergl\"}],\"scattermapbox\":[{\"marker\":{\"colorbar\":{\"outlinewidth\":0,\"ticks\":\"\"}},\"type\":\"scattermapbox\"}],\"scatterpolar\":[{\"marker\":{\"colorbar\":{\"outlinewidth\":0,\"ticks\":\"\"}},\"type\":\"scatterpolar\"}],\"scatterpolargl\":[{\"marker\":{\"colorbar\":{\"outlinewidth\":0,\"ticks\":\"\"}},\"type\":\"scatterpolargl\"}],\"scatterternary\":[{\"marker\":{\"colorbar\":{\"outlinewidth\":0,\"ticks\":\"\"}},\"type\":\"scatterternary\"}],\"surface\":[{\"colorbar\":{\"outlinewidth\":0,\"ticks\":\"\"},\"colorscale\":[[0.0,\"#0d0887\"],[0.1111111111111111,\"#46039f\"],[0.2222222222222222,\"#7201a8\"],[0.3333333333333333,\"#9c179e\"],[0.4444444444444444,\"#bd3786\"],[0.5555555555555556,\"#d8576b\"],[0.6666666666666666,\"#ed7953\"],[0.7777777777777778,\"#fb9f3a\"],[0.8888888888888888,\"#fdca26\"],[1.0,\"#f0f921\"]],\"type\":\"surface\"}],\"table\":[{\"cells\":{\"fill\":{\"color\":\"#EBF0F8\"},\"line\":{\"color\":\"white\"}},\"header\":{\"fill\":{\"color\":\"#C8D4E3\"},\"line\":{\"color\":\"white\"}},\"type\":\"table\"}]},\"layout\":{\"annotationdefaults\":{\"arrowcolor\":\"#2a3f5f\",\"arrowhead\":0,\"arrowwidth\":1},\"autotypenumbers\":\"strict\",\"coloraxis\":{\"colorbar\":{\"outlinewidth\":0,\"ticks\":\"\"}},\"colorscale\":{\"diverging\":[[0,\"#8e0152\"],[0.1,\"#c51b7d\"],[0.2,\"#de77ae\"],[0.3,\"#f1b6da\"],[0.4,\"#fde0ef\"],[0.5,\"#f7f7f7\"],[0.6,\"#e6f5d0\"],[0.7,\"#b8e186\"],[0.8,\"#7fbc41\"],[0.9,\"#4d9221\"],[1,\"#276419\"]],\"sequential\":[[0.0,\"#0d0887\"],[0.1111111111111111,\"#46039f\"],[0.2222222222222222,\"#7201a8\"],[0.3333333333333333,\"#9c179e\"],[0.4444444444444444,\"#bd3786\"],[0.5555555555555556,\"#d8576b\"],[0.6666666666666666,\"#ed7953\"],[0.7777777777777778,\"#fb9f3a\"],[0.8888888888888888,\"#fdca26\"],[1.0,\"#f0f921\"]],\"sequentialminus\":[[0.0,\"#0d0887\"],[0.1111111111111111,\"#46039f\"],[0.2222222222222222,\"#7201a8\"],[0.3333333333333333,\"#9c179e\"],[0.4444444444444444,\"#bd3786\"],[0.5555555555555556,\"#d8576b\"],[0.6666666666666666,\"#ed7953\"],[0.7777777777777778,\"#fb9f3a\"],[0.8888888888888888,\"#fdca26\"],[1.0,\"#f0f921\"]]},\"colorway\":[\"#636efa\",\"#EF553B\",\"#00cc96\",\"#ab63fa\",\"#FFA15A\",\"#19d3f3\",\"#FF6692\",\"#B6E880\",\"#FF97FF\",\"#FECB52\"],\"font\":{\"color\":\"#2a3f5f\"},\"geo\":{\"bgcolor\":\"white\",\"lakecolor\":\"white\",\"landcolor\":\"#E5ECF6\",\"showlakes\":true,\"showland\":true,\"subunitcolor\":\"white\"},\"hoverlabel\":{\"align\":\"left\"},\"hovermode\":\"closest\",\"mapbox\":{\"style\":\"light\"},\"paper_bgcolor\":\"white\",\"plot_bgcolor\":\"#E5ECF6\",\"polar\":{\"angularaxis\":{\"gridcolor\":\"white\",\"linecolor\":\"white\",\"ticks\":\"\"},\"bgcolor\":\"#E5ECF6\",\"radialaxis\":{\"gridcolor\":\"white\",\"linecolor\":\"white\",\"ticks\":\"\"}},\"scene\":{\"xaxis\":{\"backgroundcolor\":\"#E5ECF6\",\"gridcolor\":\"white\",\"gridwidth\":2,\"linecolor\":\"white\",\"showbackground\":true,\"ticks\":\"\",\"zerolinecolor\":\"white\"},\"yaxis\":{\"backgroundcolor\":\"#E5ECF6\",\"gridcolor\":\"white\",\"gridwidth\":2,\"linecolor\":\"white\",\"showbackground\":true,\"ticks\":\"\",\"zerolinecolor\":\"white\"},\"zaxis\":{\"backgroundcolor\":\"#E5ECF6\",\"gridcolor\":\"white\",\"gridwidth\":2,\"linecolor\":\"white\",\"showbackground\":true,\"ticks\":\"\",\"zerolinecolor\":\"white\"}},\"shapedefaults\":{\"line\":{\"color\":\"#2a3f5f\"}},\"ternary\":{\"aaxis\":{\"gridcolor\":\"white\",\"linecolor\":\"white\",\"ticks\":\"\"},\"baxis\":{\"gridcolor\":\"white\",\"linecolor\":\"white\",\"ticks\":\"\"},\"bgcolor\":\"#E5ECF6\",\"caxis\":{\"gridcolor\":\"white\",\"linecolor\":\"white\",\"ticks\":\"\"}},\"title\":{\"x\":0.05},\"xaxis\":{\"automargin\":true,\"gridcolor\":\"white\",\"linecolor\":\"white\",\"ticks\":\"\",\"title\":{\"standoff\":15},\"zerolinecolor\":\"white\",\"zerolinewidth\":2},\"yaxis\":{\"automargin\":true,\"gridcolor\":\"white\",\"linecolor\":\"white\",\"ticks\":\"\",\"title\":{\"standoff\":15},\"zerolinecolor\":\"white\",\"zerolinewidth\":2}}},\"xaxis\":{\"anchor\":\"y\",\"domain\":[0.0,1.0],\"title\":{\"text\":\"release_year\"}},\"yaxis\":{\"anchor\":\"x\",\"domain\":[0.0,1.0],\"title\":{\"text\":\"show_id\"}},\"legend\":{\"title\":{\"text\":\"type\"},\"tracegroupgap\":0},\"margin\":{\"t\":60},\"width\":900,\"font\":{\"color\":\"white\"},\"plot_bgcolor\":\"#111111\",\"paper_bgcolor\":\"#111111\"},                        {\"responsive\": true}                    ).then(function(){\n",
              "                            \n",
              "var gd = document.getElementById('b3db8f15-59c2-4891-acc6-5bed6e3f349a');\n",
              "var x = new MutationObserver(function (mutations, observer) {{\n",
              "        var display = window.getComputedStyle(gd).display;\n",
              "        if (!display || display === 'none') {{\n",
              "            console.log([gd, 'removed!']);\n",
              "            Plotly.purge(gd);\n",
              "            observer.disconnect();\n",
              "        }}\n",
              "}});\n",
              "\n",
              "// Listen for the removal of the full notebook cells\n",
              "var notebookContainer = gd.closest('#notebook-container');\n",
              "if (notebookContainer) {{\n",
              "    x.observe(notebookContainer, {childList: true});\n",
              "}}\n",
              "\n",
              "// Listen for the clearing of the current output cell\n",
              "var outputEl = gd.closest('.output');\n",
              "if (outputEl) {{\n",
              "    x.observe(outputEl, {childList: true});\n",
              "}}\n",
              "\n",
              "                        })                };                            </script>        </div>\n",
              "</body>\n",
              "</html>"
            ]
          },
          "metadata": {}
        }
      ]
    },
    {
      "cell_type": "code",
      "source": [
        "df3 = df[['rating','type','show_id']]\n",
        "df3 = df3.groupby(['rating','type'],as_index=False).count()\n",
        "fig3 = px.treemap(data_frame=df3,path=[px.Constant('Rating'),'type','rating'],values='show_id',color_discrete_map={'(?)':'#747A76','Movie':'blue','TV Show':'red'},width = 1800)\n",
        "fig3.update_layout(paper_bgcolor=colors['background'],font_color='white')"
      ],
      "metadata": {
        "colab": {
          "base_uri": "https://localhost:8080/",
          "height": 562
        },
        "id": "dnl7S_FfRIJg",
        "outputId": "4d48d5e8-6156-45df-faa1-426f6cb2662a"
      },
      "execution_count": 10,
      "outputs": [
        {
          "output_type": "display_data",
          "data": {
            "text/html": [
              "<html>\n",
              "<head><meta charset=\"utf-8\" /></head>\n",
              "<body>\n",
              "    <div>            <script src=\"https://cdnjs.cloudflare.com/ajax/libs/mathjax/2.7.5/MathJax.js?config=TeX-AMS-MML_SVG\"></script><script type=\"text/javascript\">if (window.MathJax) {MathJax.Hub.Config({SVG: {font: \"STIX-Web\"}});}</script>                <script type=\"text/javascript\">window.PlotlyConfig = {MathJaxConfig: 'local'};</script>\n",
              "        <script src=\"https://cdn.plot.ly/plotly-2.8.3.min.js\"></script>                <div id=\"1b9c2eff-303b-416d-bd42-dc4dabb53558\" class=\"plotly-graph-div\" style=\"height:525px; width:1800px;\"></div>            <script type=\"text/javascript\">                                    window.PLOTLYENV=window.PLOTLYENV || {};                                    if (document.getElementById(\"1b9c2eff-303b-416d-bd42-dc4dabb53558\")) {                    Plotly.newPlot(                        \"1b9c2eff-303b-416d-bd42-dc4dabb53558\",                        [{\"branchvalues\":\"total\",\"domain\":{\"x\":[0.0,1.0],\"y\":[0.0,1.0]},\"hovertemplate\":\"labels=%{label}<br>show_id=%{value}<br>parent=%{parent}<br>id=%{id}<extra></extra>\",\"ids\":[\"Rating/Movie/66 min\",\"Rating/Movie/74 min\",\"Rating/Movie/84 min\",\"Rating/Movie/G\",\"Rating/Movie/NC-17\",\"Rating/Movie/NR\",\"Rating/TV Show/NR\",\"Rating/Movie/PG\",\"Rating/Movie/PG-13\",\"Rating/Movie/R\",\"Rating/TV Show/R\",\"Rating/Movie/TV-14\",\"Rating/TV Show/TV-14\",\"Rating/Movie/TV-G\",\"Rating/TV Show/TV-G\",\"Rating/Movie/TV-MA\",\"Rating/TV Show/TV-MA\",\"Rating/Movie/TV-PG\",\"Rating/TV Show/TV-PG\",\"Rating/Movie/TV-Y\",\"Rating/TV Show/TV-Y\",\"Rating/Movie/TV-Y7\",\"Rating/TV Show/TV-Y7\",\"Rating/Movie/TV-Y7-FV\",\"Rating/TV Show/TV-Y7-FV\",\"Rating/Movie/UR\",\"Rating/Movie\",\"Rating/TV Show\",\"Rating\"],\"labels\":[\"66 min\",\"74 min\",\"84 min\",\"G\",\"NC-17\",\"NR\",\"NR\",\"PG\",\"PG-13\",\"R\",\"R\",\"TV-14\",\"TV-14\",\"TV-G\",\"TV-G\",\"TV-MA\",\"TV-MA\",\"TV-PG\",\"TV-PG\",\"TV-Y\",\"TV-Y\",\"TV-Y7\",\"TV-Y7\",\"TV-Y7-FV\",\"TV-Y7-FV\",\"UR\",\"Movie\",\"TV Show\",\"Rating\"],\"name\":\"\",\"parents\":[\"Rating/Movie\",\"Rating/Movie\",\"Rating/Movie\",\"Rating/Movie\",\"Rating/Movie\",\"Rating/Movie\",\"Rating/TV Show\",\"Rating/Movie\",\"Rating/Movie\",\"Rating/Movie\",\"Rating/TV Show\",\"Rating/Movie\",\"Rating/TV Show\",\"Rating/Movie\",\"Rating/TV Show\",\"Rating/Movie\",\"Rating/TV Show\",\"Rating/Movie\",\"Rating/TV Show\",\"Rating/Movie\",\"Rating/TV Show\",\"Rating/Movie\",\"Rating/TV Show\",\"Rating/Movie\",\"Rating/TV Show\",\"Rating/Movie\",\"Rating\",\"Rating\",\"\"],\"values\":[1,1,1,41,3,75,5,281,482,787,1,1307,623,109,81,1924,1007,504,269,84,143,83,153,4,1,3,5690,2283,7973],\"type\":\"treemap\"}],                        {\"template\":{\"data\":{\"bar\":[{\"error_x\":{\"color\":\"#2a3f5f\"},\"error_y\":{\"color\":\"#2a3f5f\"},\"marker\":{\"line\":{\"color\":\"#E5ECF6\",\"width\":0.5},\"pattern\":{\"fillmode\":\"overlay\",\"size\":10,\"solidity\":0.2}},\"type\":\"bar\"}],\"barpolar\":[{\"marker\":{\"line\":{\"color\":\"#E5ECF6\",\"width\":0.5},\"pattern\":{\"fillmode\":\"overlay\",\"size\":10,\"solidity\":0.2}},\"type\":\"barpolar\"}],\"carpet\":[{\"aaxis\":{\"endlinecolor\":\"#2a3f5f\",\"gridcolor\":\"white\",\"linecolor\":\"white\",\"minorgridcolor\":\"white\",\"startlinecolor\":\"#2a3f5f\"},\"baxis\":{\"endlinecolor\":\"#2a3f5f\",\"gridcolor\":\"white\",\"linecolor\":\"white\",\"minorgridcolor\":\"white\",\"startlinecolor\":\"#2a3f5f\"},\"type\":\"carpet\"}],\"choropleth\":[{\"colorbar\":{\"outlinewidth\":0,\"ticks\":\"\"},\"type\":\"choropleth\"}],\"contour\":[{\"colorbar\":{\"outlinewidth\":0,\"ticks\":\"\"},\"colorscale\":[[0.0,\"#0d0887\"],[0.1111111111111111,\"#46039f\"],[0.2222222222222222,\"#7201a8\"],[0.3333333333333333,\"#9c179e\"],[0.4444444444444444,\"#bd3786\"],[0.5555555555555556,\"#d8576b\"],[0.6666666666666666,\"#ed7953\"],[0.7777777777777778,\"#fb9f3a\"],[0.8888888888888888,\"#fdca26\"],[1.0,\"#f0f921\"]],\"type\":\"contour\"}],\"contourcarpet\":[{\"colorbar\":{\"outlinewidth\":0,\"ticks\":\"\"},\"type\":\"contourcarpet\"}],\"heatmap\":[{\"colorbar\":{\"outlinewidth\":0,\"ticks\":\"\"},\"colorscale\":[[0.0,\"#0d0887\"],[0.1111111111111111,\"#46039f\"],[0.2222222222222222,\"#7201a8\"],[0.3333333333333333,\"#9c179e\"],[0.4444444444444444,\"#bd3786\"],[0.5555555555555556,\"#d8576b\"],[0.6666666666666666,\"#ed7953\"],[0.7777777777777778,\"#fb9f3a\"],[0.8888888888888888,\"#fdca26\"],[1.0,\"#f0f921\"]],\"type\":\"heatmap\"}],\"heatmapgl\":[{\"colorbar\":{\"outlinewidth\":0,\"ticks\":\"\"},\"colorscale\":[[0.0,\"#0d0887\"],[0.1111111111111111,\"#46039f\"],[0.2222222222222222,\"#7201a8\"],[0.3333333333333333,\"#9c179e\"],[0.4444444444444444,\"#bd3786\"],[0.5555555555555556,\"#d8576b\"],[0.6666666666666666,\"#ed7953\"],[0.7777777777777778,\"#fb9f3a\"],[0.8888888888888888,\"#fdca26\"],[1.0,\"#f0f921\"]],\"type\":\"heatmapgl\"}],\"histogram\":[{\"marker\":{\"pattern\":{\"fillmode\":\"overlay\",\"size\":10,\"solidity\":0.2}},\"type\":\"histogram\"}],\"histogram2d\":[{\"colorbar\":{\"outlinewidth\":0,\"ticks\":\"\"},\"colorscale\":[[0.0,\"#0d0887\"],[0.1111111111111111,\"#46039f\"],[0.2222222222222222,\"#7201a8\"],[0.3333333333333333,\"#9c179e\"],[0.4444444444444444,\"#bd3786\"],[0.5555555555555556,\"#d8576b\"],[0.6666666666666666,\"#ed7953\"],[0.7777777777777778,\"#fb9f3a\"],[0.8888888888888888,\"#fdca26\"],[1.0,\"#f0f921\"]],\"type\":\"histogram2d\"}],\"histogram2dcontour\":[{\"colorbar\":{\"outlinewidth\":0,\"ticks\":\"\"},\"colorscale\":[[0.0,\"#0d0887\"],[0.1111111111111111,\"#46039f\"],[0.2222222222222222,\"#7201a8\"],[0.3333333333333333,\"#9c179e\"],[0.4444444444444444,\"#bd3786\"],[0.5555555555555556,\"#d8576b\"],[0.6666666666666666,\"#ed7953\"],[0.7777777777777778,\"#fb9f3a\"],[0.8888888888888888,\"#fdca26\"],[1.0,\"#f0f921\"]],\"type\":\"histogram2dcontour\"}],\"mesh3d\":[{\"colorbar\":{\"outlinewidth\":0,\"ticks\":\"\"},\"type\":\"mesh3d\"}],\"parcoords\":[{\"line\":{\"colorbar\":{\"outlinewidth\":0,\"ticks\":\"\"}},\"type\":\"parcoords\"}],\"pie\":[{\"automargin\":true,\"type\":\"pie\"}],\"scatter\":[{\"marker\":{\"colorbar\":{\"outlinewidth\":0,\"ticks\":\"\"}},\"type\":\"scatter\"}],\"scatter3d\":[{\"line\":{\"colorbar\":{\"outlinewidth\":0,\"ticks\":\"\"}},\"marker\":{\"colorbar\":{\"outlinewidth\":0,\"ticks\":\"\"}},\"type\":\"scatter3d\"}],\"scattercarpet\":[{\"marker\":{\"colorbar\":{\"outlinewidth\":0,\"ticks\":\"\"}},\"type\":\"scattercarpet\"}],\"scattergeo\":[{\"marker\":{\"colorbar\":{\"outlinewidth\":0,\"ticks\":\"\"}},\"type\":\"scattergeo\"}],\"scattergl\":[{\"marker\":{\"colorbar\":{\"outlinewidth\":0,\"ticks\":\"\"}},\"type\":\"scattergl\"}],\"scattermapbox\":[{\"marker\":{\"colorbar\":{\"outlinewidth\":0,\"ticks\":\"\"}},\"type\":\"scattermapbox\"}],\"scatterpolar\":[{\"marker\":{\"colorbar\":{\"outlinewidth\":0,\"ticks\":\"\"}},\"type\":\"scatterpolar\"}],\"scatterpolargl\":[{\"marker\":{\"colorbar\":{\"outlinewidth\":0,\"ticks\":\"\"}},\"type\":\"scatterpolargl\"}],\"scatterternary\":[{\"marker\":{\"colorbar\":{\"outlinewidth\":0,\"ticks\":\"\"}},\"type\":\"scatterternary\"}],\"surface\":[{\"colorbar\":{\"outlinewidth\":0,\"ticks\":\"\"},\"colorscale\":[[0.0,\"#0d0887\"],[0.1111111111111111,\"#46039f\"],[0.2222222222222222,\"#7201a8\"],[0.3333333333333333,\"#9c179e\"],[0.4444444444444444,\"#bd3786\"],[0.5555555555555556,\"#d8576b\"],[0.6666666666666666,\"#ed7953\"],[0.7777777777777778,\"#fb9f3a\"],[0.8888888888888888,\"#fdca26\"],[1.0,\"#f0f921\"]],\"type\":\"surface\"}],\"table\":[{\"cells\":{\"fill\":{\"color\":\"#EBF0F8\"},\"line\":{\"color\":\"white\"}},\"header\":{\"fill\":{\"color\":\"#C8D4E3\"},\"line\":{\"color\":\"white\"}},\"type\":\"table\"}]},\"layout\":{\"annotationdefaults\":{\"arrowcolor\":\"#2a3f5f\",\"arrowhead\":0,\"arrowwidth\":1},\"autotypenumbers\":\"strict\",\"coloraxis\":{\"colorbar\":{\"outlinewidth\":0,\"ticks\":\"\"}},\"colorscale\":{\"diverging\":[[0,\"#8e0152\"],[0.1,\"#c51b7d\"],[0.2,\"#de77ae\"],[0.3,\"#f1b6da\"],[0.4,\"#fde0ef\"],[0.5,\"#f7f7f7\"],[0.6,\"#e6f5d0\"],[0.7,\"#b8e186\"],[0.8,\"#7fbc41\"],[0.9,\"#4d9221\"],[1,\"#276419\"]],\"sequential\":[[0.0,\"#0d0887\"],[0.1111111111111111,\"#46039f\"],[0.2222222222222222,\"#7201a8\"],[0.3333333333333333,\"#9c179e\"],[0.4444444444444444,\"#bd3786\"],[0.5555555555555556,\"#d8576b\"],[0.6666666666666666,\"#ed7953\"],[0.7777777777777778,\"#fb9f3a\"],[0.8888888888888888,\"#fdca26\"],[1.0,\"#f0f921\"]],\"sequentialminus\":[[0.0,\"#0d0887\"],[0.1111111111111111,\"#46039f\"],[0.2222222222222222,\"#7201a8\"],[0.3333333333333333,\"#9c179e\"],[0.4444444444444444,\"#bd3786\"],[0.5555555555555556,\"#d8576b\"],[0.6666666666666666,\"#ed7953\"],[0.7777777777777778,\"#fb9f3a\"],[0.8888888888888888,\"#fdca26\"],[1.0,\"#f0f921\"]]},\"colorway\":[\"#636efa\",\"#EF553B\",\"#00cc96\",\"#ab63fa\",\"#FFA15A\",\"#19d3f3\",\"#FF6692\",\"#B6E880\",\"#FF97FF\",\"#FECB52\"],\"font\":{\"color\":\"#2a3f5f\"},\"geo\":{\"bgcolor\":\"white\",\"lakecolor\":\"white\",\"landcolor\":\"#E5ECF6\",\"showlakes\":true,\"showland\":true,\"subunitcolor\":\"white\"},\"hoverlabel\":{\"align\":\"left\"},\"hovermode\":\"closest\",\"mapbox\":{\"style\":\"light\"},\"paper_bgcolor\":\"white\",\"plot_bgcolor\":\"#E5ECF6\",\"polar\":{\"angularaxis\":{\"gridcolor\":\"white\",\"linecolor\":\"white\",\"ticks\":\"\"},\"bgcolor\":\"#E5ECF6\",\"radialaxis\":{\"gridcolor\":\"white\",\"linecolor\":\"white\",\"ticks\":\"\"}},\"scene\":{\"xaxis\":{\"backgroundcolor\":\"#E5ECF6\",\"gridcolor\":\"white\",\"gridwidth\":2,\"linecolor\":\"white\",\"showbackground\":true,\"ticks\":\"\",\"zerolinecolor\":\"white\"},\"yaxis\":{\"backgroundcolor\":\"#E5ECF6\",\"gridcolor\":\"white\",\"gridwidth\":2,\"linecolor\":\"white\",\"showbackground\":true,\"ticks\":\"\",\"zerolinecolor\":\"white\"},\"zaxis\":{\"backgroundcolor\":\"#E5ECF6\",\"gridcolor\":\"white\",\"gridwidth\":2,\"linecolor\":\"white\",\"showbackground\":true,\"ticks\":\"\",\"zerolinecolor\":\"white\"}},\"shapedefaults\":{\"line\":{\"color\":\"#2a3f5f\"}},\"ternary\":{\"aaxis\":{\"gridcolor\":\"white\",\"linecolor\":\"white\",\"ticks\":\"\"},\"baxis\":{\"gridcolor\":\"white\",\"linecolor\":\"white\",\"ticks\":\"\"},\"bgcolor\":\"#E5ECF6\",\"caxis\":{\"gridcolor\":\"white\",\"linecolor\":\"white\",\"ticks\":\"\"}},\"title\":{\"x\":0.05},\"xaxis\":{\"automargin\":true,\"gridcolor\":\"white\",\"linecolor\":\"white\",\"ticks\":\"\",\"title\":{\"standoff\":15},\"zerolinecolor\":\"white\",\"zerolinewidth\":2},\"yaxis\":{\"automargin\":true,\"gridcolor\":\"white\",\"linecolor\":\"white\",\"ticks\":\"\",\"title\":{\"standoff\":15},\"zerolinecolor\":\"white\",\"zerolinewidth\":2}}},\"legend\":{\"tracegroupgap\":0},\"margin\":{\"t\":60},\"width\":1800,\"font\":{\"color\":\"white\"},\"paper_bgcolor\":\"#111111\"},                        {\"responsive\": true}                    ).then(function(){\n",
              "                            \n",
              "var gd = document.getElementById('1b9c2eff-303b-416d-bd42-dc4dabb53558');\n",
              "var x = new MutationObserver(function (mutations, observer) {{\n",
              "        var display = window.getComputedStyle(gd).display;\n",
              "        if (!display || display === 'none') {{\n",
              "            console.log([gd, 'removed!']);\n",
              "            Plotly.purge(gd);\n",
              "            observer.disconnect();\n",
              "        }}\n",
              "}});\n",
              "\n",
              "// Listen for the removal of the full notebook cells\n",
              "var notebookContainer = gd.closest('#notebook-container');\n",
              "if (notebookContainer) {{\n",
              "    x.observe(notebookContainer, {childList: true});\n",
              "}}\n",
              "\n",
              "// Listen for the clearing of the current output cell\n",
              "var outputEl = gd.closest('.output');\n",
              "if (outputEl) {{\n",
              "    x.observe(outputEl, {childList: true});\n",
              "}}\n",
              "\n",
              "                        })                };                            </script>        </div>\n",
              "</body>\n",
              "</html>"
            ]
          },
          "metadata": {}
        }
      ]
    },
    {
      "cell_type": "code",
      "source": [
        "app = JupyterDash(__name__)\n",
        "app.layout = html.Div(style = {'backgroundColor':colors['background']},children = [\n",
        "    html.H1('Netflix Catalog - Movies and Shows',style = {'color':colors['text']}),\n",
        "    html.Div([\n",
        "      html.Div([dcc.Graph(id='graph2',figure=fig1)],style={'display':'inline-block'}),\n",
        "      html.Div([dcc.Graph(id='graph3',figure=fig2)],style={'display':'inline-block'})\n",
        "    ]),\n",
        "    html.Div([dcc.Graph(id='graph4',figure=fig3)],style={'display':'inline-block'})\n",
        "    ])\n",
        "\n",
        "\n",
        "if __name__ == '__main__':\n",
        "  app.run_server(debug=True)"
      ],
      "metadata": {
        "colab": {
          "base_uri": "https://localhost:8080/",
          "height": 53
        },
        "id": "DAaXYRLA2sN7",
        "outputId": "b2286c7a-433a-427c-e6af-b909c0f68392"
      },
      "execution_count": 11,
      "outputs": [
        {
          "output_type": "stream",
          "name": "stdout",
          "text": [
            "Dash app running on:\n"
          ]
        },
        {
          "output_type": "display_data",
          "data": {
            "text/plain": [
              "<IPython.core.display.Javascript object>"
            ],
            "application/javascript": [
              "(async (port, path, text, element) => {\n",
              "    if (!google.colab.kernel.accessAllowed) {\n",
              "      return;\n",
              "    }\n",
              "    element.appendChild(document.createTextNode(''));\n",
              "    const url = await google.colab.kernel.proxyPort(port);\n",
              "    const anchor = document.createElement('a');\n",
              "    anchor.href = new URL(path, url).toString();\n",
              "    anchor.target = '_blank';\n",
              "    anchor.setAttribute('data-href', url + path);\n",
              "    anchor.textContent = text;\n",
              "    element.appendChild(anchor);\n",
              "  })(8050, \"/\", \"http://127.0.0.1:8050/\", window.element)"
            ]
          },
          "metadata": {}
        }
      ]
    },
    {
      "cell_type": "markdown",
      "source": [
        "Testing dropdown"
      ],
      "metadata": {
        "id": "Uvfp2F_26FM1"
      }
    },
    {
      "cell_type": "code",
      "source": [
        "external_stylesheets = ['https://raw.githubusercontent.com/boneeyah/SMU/main/dash.css']"
      ],
      "metadata": {
        "id": "ga39NWB1E3ms"
      },
      "execution_count": 28,
      "outputs": []
    },
    {
      "cell_type": "code",
      "source": [
        "app = JupyterDash(__name__,external_stylesheets=external_stylesheets)\n",
        "app.layout = html.Div(style = {'backgroundColor':colors['background']},children = [\n",
        "    html.H1('Netflix Catalog - Movies and Shows',style = {'color':colors['text']}),\n",
        "    html.Div([\n",
        "      html.Div([dcc.Graph(id='graph1')],style={'display':'inline-block'}),\n",
        "      html.Div([dcc.Graph(id='graph2')],style={'display':'inline-block'})\n",
        "    ]),\n",
        "    html.Div([dcc.Graph(id='graph3')],style={'display':'inline-block'}),\n",
        "    html.Div([\n",
        "        dcc.Dropdown(\n",
        "            df['type'].unique(),\n",
        "            'Content Type',\n",
        "            id='content-filter'\n",
        "        )\n",
        "        \n",
        "    ])\n",
        "    ])\n",
        "\n",
        "\n",
        "if __name__ == '__main__':\n",
        "  app.run_server(debug=True)"
      ],
      "metadata": {
        "id": "sQiZFjX8J1LS",
        "colab": {
          "base_uri": "https://localhost:8080/",
          "height": 53
        },
        "outputId": "1d6b56d2-3a6f-429f-949d-d9cd97c3fb4e"
      },
      "execution_count": 32,
      "outputs": [
        {
          "output_type": "stream",
          "name": "stdout",
          "text": [
            "Dash app running on:\n"
          ]
        },
        {
          "output_type": "display_data",
          "data": {
            "text/plain": [
              "<IPython.core.display.Javascript object>"
            ],
            "application/javascript": [
              "(async (port, path, text, element) => {\n",
              "    if (!google.colab.kernel.accessAllowed) {\n",
              "      return;\n",
              "    }\n",
              "    element.appendChild(document.createTextNode(''));\n",
              "    const url = await google.colab.kernel.proxyPort(port);\n",
              "    const anchor = document.createElement('a');\n",
              "    anchor.href = new URL(path, url).toString();\n",
              "    anchor.target = '_blank';\n",
              "    anchor.setAttribute('data-href', url + path);\n",
              "    anchor.textContent = text;\n",
              "    element.appendChild(anchor);\n",
              "  })(8050, \"/\", \"http://127.0.0.1:8050/\", window.element)"
            ]
          },
          "metadata": {}
        }
      ]
    },
    {
      "cell_type": "code",
      "source": [
        "from jupyter_dash import JupyterDash\n",
        "from dash import dcc, html, Input, Output\n",
        "import plotly.express as px\n",
        "\n",
        "import pandas as pd\n",
        "\n",
        "df = pd.read_csv('https://raw.githubusercontent.com/plotly/datasets/master/gapminderDataFiveYear.csv')\n",
        "\n",
        "app = JupyterDash(__name__)\n",
        "\n",
        "app.layout = html.Div([\n",
        "    dcc.Graph(id='graph-with-slider'),\n",
        "    dcc.Slider(\n",
        "        df['year'].min(),\n",
        "        df['year'].max(),\n",
        "        step=None,\n",
        "        value=df['year'].min(),\n",
        "        marks={str(year): str(year) for year in df['year'].unique()},\n",
        "        id='year-slider'\n",
        "    )\n",
        "])\n",
        "\n",
        "\n",
        "@app.callback(\n",
        "    Output('graph-with-slider', 'figure'),\n",
        "    Input('year-slider', 'value'))\n",
        "def update_figure(selected_year):\n",
        "    filtered_df = df[df.year == selected_year]\n",
        "\n",
        "    fig = px.scatter(filtered_df, x=\"gdpPercap\", y=\"lifeExp\",\n",
        "                     size=\"pop\", color=\"continent\", hover_name=\"country\",\n",
        "                     log_x=True, size_max=55)\n",
        "\n",
        "    fig.update_layout(transition_duration=500)\n",
        "\n",
        "    return fig\n",
        "\n",
        "\n",
        "if __name__ == '__main__':\n",
        "    app.run_server(debug=True)"
      ],
      "metadata": {
        "colab": {
          "base_uri": "https://localhost:8080/",
          "height": 53
        },
        "outputId": "d0e73e97-81aa-44c4-fae6-e58350f8674e",
        "id": "Y-8gWonOJ1fL"
      },
      "execution_count": 14,
      "outputs": [
        {
          "output_type": "stream",
          "name": "stdout",
          "text": [
            "Dash app running on:\n"
          ]
        },
        {
          "output_type": "display_data",
          "data": {
            "text/plain": [
              "<IPython.core.display.Javascript object>"
            ],
            "application/javascript": [
              "(async (port, path, text, element) => {\n",
              "    if (!google.colab.kernel.accessAllowed) {\n",
              "      return;\n",
              "    }\n",
              "    element.appendChild(document.createTextNode(''));\n",
              "    const url = await google.colab.kernel.proxyPort(port);\n",
              "    const anchor = document.createElement('a');\n",
              "    anchor.href = new URL(path, url).toString();\n",
              "    anchor.target = '_blank';\n",
              "    anchor.setAttribute('data-href', url + path);\n",
              "    anchor.textContent = text;\n",
              "    element.appendChild(anchor);\n",
              "  })(8050, \"/\", \"http://127.0.0.1:8050/\", window.element)"
            ]
          },
          "metadata": {}
        }
      ]
    },
    {
      "cell_type": "code",
      "source": [
        "\n",
        "app = JupyterDash()\n",
        "### defining the HTML component\n",
        "app.layout = html.Div(children=[html.Div(\"Welcome to the dashboard\",style= {   \"color\": \"white\",\n",
        "                                                      \"text-align\": \"center\",\"background-color\": \"blue\",\n",
        "                                                      \"border-style\": \"dotted\",\"display\":\"inline-block\",\"width\":\"80%\"\n",
        "                                                      \n",
        "                                                    }),\n",
        "                       html.Div(dcc.Dropdown(id = \"drop_down_1\" ,options= options_list , value= 'good'\n",
        "                                                       ),style= {\n",
        "                                                      \"color\": \"green\",\n",
        "                                                      \"text-align\": \"center\",\"background-color\": \"darkorange\",\n",
        "                                                      \"border-style\": \"dotted\",\"display\":\"inline-block\",\"width\":\"20%\"\n",
        "                                                      \n",
        "                                                    }),\n",
        "                       html.Div(children=[html.P(\n",
        "                            id=\"map-title\",\n",
        "                            children = \"Forecast and validation for Facility \",\n",
        "                        ), html.Div(dcc.Graph(id =\"plot_area\"))\n",
        "                                                       ],style= {\n",
        "                                                      \"color\": \"black\",\n",
        "                                                      \"text-align\": \"center\",\"background-color\": \"yellow\",\n",
        "                                                      \"border-style\": \"dotted\",\"display\":\"inline-block\",\"width\":\"75%\",\n",
        "                                                                                                            \n",
        "                                                    })],style={\"width\":\"100%\",'paffing':10})"
      ],
      "metadata": {
        "colab": {
          "base_uri": "https://localhost:8080/",
          "height": 248
        },
        "id": "fqwua8eL_qfu",
        "outputId": "a523771d-4b6a-4776-a58f-1d19fbc843c0"
      },
      "execution_count": 16,
      "outputs": [
        {
          "output_type": "error",
          "ename": "NameError",
          "evalue": "ignored",
          "traceback": [
            "\u001b[0;31m---------------------------------------------------------------------------\u001b[0m",
            "\u001b[0;31mNameError\u001b[0m                                 Traceback (most recent call last)",
            "\u001b[0;32m<ipython-input-16-cc0431bd29d0>\u001b[0m in \u001b[0;36m<module>\u001b[0;34m\u001b[0m\n\u001b[1;32m      6\u001b[0m \u001b[0;34m\u001b[0m\u001b[0m\n\u001b[1;32m      7\u001b[0m                                                     }),\n\u001b[0;32m----> 8\u001b[0;31m                        html.Div(dcc.Dropdown(id = \"drop_down_1\" ,options= options_list , value= 'good'\n\u001b[0m\u001b[1;32m      9\u001b[0m                                                        \u001b[0;34m)\u001b[0m\u001b[0;34m,\u001b[0m\u001b[0mstyle\u001b[0m\u001b[0;34m=\u001b[0m \u001b[0;34m{\u001b[0m\u001b[0;34m\u001b[0m\u001b[0;34m\u001b[0m\u001b[0m\n\u001b[1;32m     10\u001b[0m                                                       \u001b[0;34m\"color\"\u001b[0m\u001b[0;34m:\u001b[0m \u001b[0;34m\"green\"\u001b[0m\u001b[0;34m,\u001b[0m\u001b[0;34m\u001b[0m\u001b[0;34m\u001b[0m\u001b[0m\n",
            "\u001b[0;31mNameError\u001b[0m: name 'options_list' is not defined"
          ]
        }
      ]
    }
  ]
}